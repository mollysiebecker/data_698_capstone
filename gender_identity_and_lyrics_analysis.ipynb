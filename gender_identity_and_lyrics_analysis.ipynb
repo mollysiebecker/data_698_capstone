{
 "cells": [
  {
   "cell_type": "markdown",
   "metadata": {},
   "source": [
    "# Import Libraries"
   ]
  },
  {
   "cell_type": "code",
   "execution_count": 1,
   "metadata": {},
   "outputs": [
    {
     "name": "stderr",
     "output_type": "stream",
     "text": [
      "/Users/mollysiebecker/DATA 698/capstone-env/lib/python3.12/site-packages/tqdm/auto.py:21: TqdmWarning: IProgress not found. Please update jupyter and ipywidgets. See https://ipywidgets.readthedocs.io/en/stable/user_install.html\n",
      "  from .autonotebook import tqdm as notebook_tqdm\n",
      "[nltk_data] Downloading package punkt to\n",
      "[nltk_data]     /Users/mollysiebecker/nltk_data...\n",
      "[nltk_data]   Package punkt is already up-to-date!\n",
      "[nltk_data] Downloading package punkt_tab to\n",
      "[nltk_data]     /Users/mollysiebecker/nltk_data...\n",
      "[nltk_data]   Package punkt_tab is already up-to-date!\n"
     ]
    },
    {
     "data": {
      "text/plain": [
       "True"
      ]
     },
     "execution_count": 1,
     "metadata": {},
     "output_type": "execute_result"
    }
   ],
   "source": [
    "import pandas as pd\n",
    "import numpy as np\n",
    "import matplotlib.pyplot as plt\n",
    "from matplotlib.patches import Patch\n",
    "import seaborn as sns\n",
    "import re\n",
    "from transformers import pipeline\n",
    "import tqdm as notebook_tqdm\n",
    "from scipy.stats import chi2_contingency\n",
    "from scipy.stats import mannwhitneyu\n",
    "from collections import defaultdict\n",
    "from collections import Counter\n",
    "import ast\n",
    "import nltk\n",
    "from nltk.tokenize import word_tokenize\n",
    "nltk.download('punkt')\n",
    "nltk.download('punkt_tab')"
   ]
  },
  {
   "cell_type": "markdown",
   "metadata": {},
   "source": [
    "# Load Data and Dictionaries"
   ]
  },
  {
   "cell_type": "code",
   "execution_count": 2,
   "metadata": {},
   "outputs": [
    {
     "data": {
      "text/html": [
       "<div>\n",
       "<style scoped>\n",
       "    .dataframe tbody tr th:only-of-type {\n",
       "        vertical-align: middle;\n",
       "    }\n",
       "\n",
       "    .dataframe tbody tr th {\n",
       "        vertical-align: top;\n",
       "    }\n",
       "\n",
       "    .dataframe thead th {\n",
       "        text-align: right;\n",
       "    }\n",
       "</style>\n",
       "<table border=\"1\" class=\"dataframe\">\n",
       "  <thead>\n",
       "    <tr style=\"text-align: right;\">\n",
       "      <th></th>\n",
       "      <th>Rank</th>\n",
       "      <th>Year</th>\n",
       "      <th>Song</th>\n",
       "      <th>Artist</th>\n",
       "      <th>Lyrics</th>\n",
       "      <th>Instrumental</th>\n",
       "      <th>Detected_Language</th>\n",
       "      <th>Is_Non_English</th>\n",
       "      <th>Mixed_Language</th>\n",
       "      <th>Songwriters</th>\n",
       "      <th>Lyricists</th>\n",
       "      <th>Wikipedia_Genre</th>\n",
       "    </tr>\n",
       "  </thead>\n",
       "  <tbody>\n",
       "    <tr>\n",
       "      <th>0</th>\n",
       "      <td>100</td>\n",
       "      <td>2024</td>\n",
       "      <td>Dance the Night</td>\n",
       "      <td>Dua Lipa</td>\n",
       "      <td>Baby, you can find me under the lights\\nDiamon...</td>\n",
       "      <td>False</td>\n",
       "      <td>en</td>\n",
       "      <td>False</td>\n",
       "      <td>NaN</td>\n",
       "      <td>Caroline Ailin, Dua Lipa, Mark Ronson, Andrew ...</td>\n",
       "      <td>NaN</td>\n",
       "      <td>Disco, disco-pop, synth-pop</td>\n",
       "    </tr>\n",
       "    <tr>\n",
       "      <th>1</th>\n",
       "      <td>99</td>\n",
       "      <td>2024</td>\n",
       "      <td>Down Bad</td>\n",
       "      <td>Taylor Swift</td>\n",
       "      <td>Did you really beam me up\\nIn a cloud of spark...</td>\n",
       "      <td>False</td>\n",
       "      <td>en</td>\n",
       "      <td>False</td>\n",
       "      <td>NaN</td>\n",
       "      <td>Jack Antonoff, Taylor Swift</td>\n",
       "      <td>NaN</td>\n",
       "      <td>Synth-pop</td>\n",
       "    </tr>\n",
       "    <tr>\n",
       "      <th>2</th>\n",
       "      <td>98</td>\n",
       "      <td>2024</td>\n",
       "      <td>The Painter</td>\n",
       "      <td>Cody Johnson</td>\n",
       "      <td>She talks about the future like she's flippin'...</td>\n",
       "      <td>False</td>\n",
       "      <td>en</td>\n",
       "      <td>False</td>\n",
       "      <td>NaN</td>\n",
       "      <td>Benjy Davis, Kat Higgins, Ryan Larkins</td>\n",
       "      <td>NaN</td>\n",
       "      <td>Country</td>\n",
       "    </tr>\n",
       "    <tr>\n",
       "      <th>3</th>\n",
       "      <td>97</td>\n",
       "      <td>2024</td>\n",
       "      <td>Fe!n</td>\n",
       "      <td>Travis Scott featuring Playboi Carti</td>\n",
       "      <td>\\nJust come outside for the night (Yeah)\\nTake...</td>\n",
       "      <td>False</td>\n",
       "      <td>en</td>\n",
       "      <td>False</td>\n",
       "      <td>NaN</td>\n",
       "      <td>Playboi Carti, Travis Scott, Sheck Wes, Jahaan...</td>\n",
       "      <td>NaN</td>\n",
       "      <td>Rage</td>\n",
       "    </tr>\n",
       "    <tr>\n",
       "      <th>4</th>\n",
       "      <td>96</td>\n",
       "      <td>2024</td>\n",
       "      <td>Bulletproof</td>\n",
       "      <td>Nate Smith</td>\n",
       "      <td>Usually, these ol' neon lights\\nAre pretty goo...</td>\n",
       "      <td>False</td>\n",
       "      <td>en</td>\n",
       "      <td>False</td>\n",
       "      <td>NaN</td>\n",
       "      <td>Ashley Gorley, Ben Johnson, Hunter Phelps</td>\n",
       "      <td>NaN</td>\n",
       "      <td>Country rock</td>\n",
       "    </tr>\n",
       "  </tbody>\n",
       "</table>\n",
       "</div>"
      ],
      "text/plain": [
       "   Rank  Year             Song                                Artist  \\\n",
       "0   100  2024  Dance the Night                              Dua Lipa   \n",
       "1    99  2024         Down Bad                          Taylor Swift   \n",
       "2    98  2024      The Painter                          Cody Johnson   \n",
       "3    97  2024             Fe!n  Travis Scott featuring Playboi Carti   \n",
       "4    96  2024      Bulletproof                            Nate Smith   \n",
       "\n",
       "                                              Lyrics  Instrumental  \\\n",
       "0  Baby, you can find me under the lights\\nDiamon...         False   \n",
       "1  Did you really beam me up\\nIn a cloud of spark...         False   \n",
       "2  She talks about the future like she's flippin'...         False   \n",
       "3  \\nJust come outside for the night (Yeah)\\nTake...         False   \n",
       "4  Usually, these ol' neon lights\\nAre pretty goo...         False   \n",
       "\n",
       "  Detected_Language Is_Non_English Mixed_Language  \\\n",
       "0                en          False            NaN   \n",
       "1                en          False            NaN   \n",
       "2                en          False            NaN   \n",
       "3                en          False            NaN   \n",
       "4                en          False            NaN   \n",
       "\n",
       "                                         Songwriters Lyricists  \\\n",
       "0  Caroline Ailin, Dua Lipa, Mark Ronson, Andrew ...       NaN   \n",
       "1                        Jack Antonoff, Taylor Swift       NaN   \n",
       "2             Benjy Davis, Kat Higgins, Ryan Larkins       NaN   \n",
       "3  Playboi Carti, Travis Scott, Sheck Wes, Jahaan...       NaN   \n",
       "4          Ashley Gorley, Ben Johnson, Hunter Phelps       NaN   \n",
       "\n",
       "               Wikipedia_Genre  \n",
       "0  Disco, disco-pop, synth-pop  \n",
       "1                    Synth-pop  \n",
       "2                      Country  \n",
       "3                         Rage  \n",
       "4                 Country rock  "
      ]
     },
     "execution_count": 2,
     "metadata": {},
     "output_type": "execute_result"
    }
   ],
   "source": [
    "# import song data\n",
    "df = pd.read_csv(\"https://raw.githubusercontent.com/mollysiebecker/data_698_capstone/refs/heads/main/songs_df.csv\")\n",
    "\n",
    "df.head()"
   ]
  },
  {
   "cell_type": "code",
   "execution_count": 3,
   "metadata": {},
   "outputs": [
    {
     "data": {
      "text/html": [
       "<div>\n",
       "<style scoped>\n",
       "    .dataframe tbody tr th:only-of-type {\n",
       "        vertical-align: middle;\n",
       "    }\n",
       "\n",
       "    .dataframe tbody tr th {\n",
       "        vertical-align: top;\n",
       "    }\n",
       "\n",
       "    .dataframe thead th {\n",
       "        text-align: right;\n",
       "    }\n",
       "</style>\n",
       "<table border=\"1\" class=\"dataframe\">\n",
       "  <thead>\n",
       "    <tr style=\"text-align: right;\">\n",
       "      <th></th>\n",
       "      <th>Rank</th>\n",
       "      <th>Year</th>\n",
       "      <th>Song</th>\n",
       "      <th>Artist</th>\n",
       "      <th>Lyrics</th>\n",
       "      <th>Instrumental</th>\n",
       "      <th>Detected_Language</th>\n",
       "      <th>Is_Non_English</th>\n",
       "      <th>Mixed_Language</th>\n",
       "      <th>Songwriters</th>\n",
       "      <th>Lyricists</th>\n",
       "      <th>Wikipedia_Genre</th>\n",
       "    </tr>\n",
       "  </thead>\n",
       "  <tbody>\n",
       "    <tr>\n",
       "      <th>6025</th>\n",
       "      <td>5</td>\n",
       "      <td>1965</td>\n",
       "      <td>You've Lost That Lovin' Feelin'</td>\n",
       "      <td>The Righteous Brothers</td>\n",
       "      <td>You never close your eyes anymore\\nWhen I kiss...</td>\n",
       "      <td>False</td>\n",
       "      <td>en</td>\n",
       "      <td>False</td>\n",
       "      <td>NaN</td>\n",
       "      <td>Barry Mann, Phil Spector, Cynthia Weil</td>\n",
       "      <td>NaN</td>\n",
       "      <td>Pop, R&amp;B, blue-eyed soul</td>\n",
       "    </tr>\n",
       "    <tr>\n",
       "      <th>6026</th>\n",
       "      <td>4</td>\n",
       "      <td>1965</td>\n",
       "      <td>You Were on My Mind</td>\n",
       "      <td>We Five</td>\n",
       "      <td>When I woke up this mornin'\\nYou were on my mi...</td>\n",
       "      <td>False</td>\n",
       "      <td>en</td>\n",
       "      <td>False</td>\n",
       "      <td>NaN</td>\n",
       "      <td>Sylvia Tyson</td>\n",
       "      <td>Sylvia Tyson</td>\n",
       "      <td>Folk rock, [1]</td>\n",
       "    </tr>\n",
       "    <tr>\n",
       "      <th>6027</th>\n",
       "      <td>3</td>\n",
       "      <td>1965</td>\n",
       "      <td>(I Can't Get No) Satisfaction</td>\n",
       "      <td>The Rolling Stones</td>\n",
       "      <td>I can't get no satisfaction\\nI can't get no sa...</td>\n",
       "      <td>False</td>\n",
       "      <td>en</td>\n",
       "      <td>False</td>\n",
       "      <td>NaN</td>\n",
       "      <td>Mick Jagger, Keith Richards</td>\n",
       "      <td>NaN</td>\n",
       "      <td>Rock, [1], [2]</td>\n",
       "    </tr>\n",
       "    <tr>\n",
       "      <th>6028</th>\n",
       "      <td>2</td>\n",
       "      <td>1965</td>\n",
       "      <td>I Can't Help Myself (Sugar Pie Honey Bunch)</td>\n",
       "      <td>Four Tops</td>\n",
       "      <td>Ooh\\nSugar pie, honey bunch\\nYou know that I l...</td>\n",
       "      <td>False</td>\n",
       "      <td>en</td>\n",
       "      <td>False</td>\n",
       "      <td>NaN</td>\n",
       "      <td>NaN</td>\n",
       "      <td>NaN</td>\n",
       "      <td>Soul, pop</td>\n",
       "    </tr>\n",
       "    <tr>\n",
       "      <th>6029</th>\n",
       "      <td>1</td>\n",
       "      <td>1965</td>\n",
       "      <td>Wooly Bully</td>\n",
       "      <td>Sam the Sham and the Pharaohs</td>\n",
       "      <td>Uno, dos\\nOne, two, tres, cuatro\\nYes, Wooly B...</td>\n",
       "      <td>False</td>\n",
       "      <td>en</td>\n",
       "      <td>False</td>\n",
       "      <td>NaN</td>\n",
       "      <td>Sam the Sham</td>\n",
       "      <td>Sam the Sham</td>\n",
       "      <td>Garage rock, [1], [2], rock and roll, [3]</td>\n",
       "    </tr>\n",
       "  </tbody>\n",
       "</table>\n",
       "</div>"
      ],
      "text/plain": [
       "      Rank  Year                                         Song  \\\n",
       "6025     5  1965              You've Lost That Lovin' Feelin'   \n",
       "6026     4  1965                          You Were on My Mind   \n",
       "6027     3  1965                (I Can't Get No) Satisfaction   \n",
       "6028     2  1965  I Can't Help Myself (Sugar Pie Honey Bunch)   \n",
       "6029     1  1965                                  Wooly Bully   \n",
       "\n",
       "                             Artist  \\\n",
       "6025         The Righteous Brothers   \n",
       "6026                        We Five   \n",
       "6027             The Rolling Stones   \n",
       "6028                      Four Tops   \n",
       "6029  Sam the Sham and the Pharaohs   \n",
       "\n",
       "                                                 Lyrics  Instrumental  \\\n",
       "6025  You never close your eyes anymore\\nWhen I kiss...         False   \n",
       "6026  When I woke up this mornin'\\nYou were on my mi...         False   \n",
       "6027  I can't get no satisfaction\\nI can't get no sa...         False   \n",
       "6028  Ooh\\nSugar pie, honey bunch\\nYou know that I l...         False   \n",
       "6029  Uno, dos\\nOne, two, tres, cuatro\\nYes, Wooly B...         False   \n",
       "\n",
       "     Detected_Language Is_Non_English Mixed_Language  \\\n",
       "6025                en          False            NaN   \n",
       "6026                en          False            NaN   \n",
       "6027                en          False            NaN   \n",
       "6028                en          False            NaN   \n",
       "6029                en          False            NaN   \n",
       "\n",
       "                                 Songwriters     Lyricists  \\\n",
       "6025  Barry Mann, Phil Spector, Cynthia Weil           NaN   \n",
       "6026                            Sylvia Tyson  Sylvia Tyson   \n",
       "6027             Mick Jagger, Keith Richards           NaN   \n",
       "6028                                     NaN           NaN   \n",
       "6029                            Sam the Sham  Sam the Sham   \n",
       "\n",
       "                                Wikipedia_Genre  \n",
       "6025                   Pop, R&B, blue-eyed soul  \n",
       "6026                             Folk rock, [1]  \n",
       "6027                             Rock, [1], [2]  \n",
       "6028                                  Soul, pop  \n",
       "6029  Garage rock, [1], [2], rock and roll, [3]  "
      ]
     },
     "execution_count": 3,
     "metadata": {},
     "output_type": "execute_result"
    }
   ],
   "source": [
    "df.tail()"
   ]
  },
  {
   "cell_type": "code",
   "execution_count": 4,
   "metadata": {},
   "outputs": [],
   "source": [
    "# import songwriter gender dictionary\n",
    "df_songwriter_gender = pd.read_csv('https://raw.githubusercontent.com/mollysiebecker/data_698_capstone/refs/heads/main/songwriter_gender_lookup.csv')\n",
    "dict_songwriter_gender = dict(zip(df_songwriter_gender['name'], df_songwriter_gender['gender']))\n"
   ]
  },
  {
   "cell_type": "code",
   "execution_count": 5,
   "metadata": {},
   "outputs": [],
   "source": [
    "# import artist gender dictionary\n",
    "df_artist_gender = pd.read_csv('https://raw.githubusercontent.com/mollysiebecker/data_698_capstone/refs/heads/main/artist_gender_lookup.csv')\n",
    "dict_artist_gender = dict(zip(df_artist_gender['Artist'], df_artist_gender['Gender']))\n"
   ]
  },
  {
   "cell_type": "markdown",
   "metadata": {},
   "source": [
    "# Manipulating Variables and Pre-Processing Lyrics"
   ]
  },
  {
   "cell_type": "code",
   "execution_count": 6,
   "metadata": {},
   "outputs": [],
   "source": [
    "# drop instrumental, non-english, mixed language songs \n",
    "df = df[df['Instrumental'] != True]\n",
    "\n",
    "df = df[df['Is_Non_English'] != True]\n",
    "\n",
    "df = df[df['Mixed_Language'] != True]\n",
    "\n",
    "# drop unnecessary columns\n",
    "df = df.drop(['Instrumental', 'Is_Non_English', 'Mixed_Language', 'Detected_Language', 'Lyricists'], axis=1)"
   ]
  },
  {
   "cell_type": "code",
   "execution_count": 7,
   "metadata": {},
   "outputs": [],
   "source": [
    "# function to normalize whitespace\n",
    "def normalize_whitespace(text):\n",
    "    return re.sub(r'\\s+', ' ', text).strip()\n",
    "\n",
    "# apply to the 'Lyrics' column\n",
    "df.loc[df['Lyrics'].notna(), 'Lyrics'] = df.loc[df['Lyrics'].notna(), 'Lyrics'].apply(normalize_whitespace)\n"
   ]
  },
  {
   "cell_type": "code",
   "execution_count": 8,
   "metadata": {},
   "outputs": [],
   "source": [
    "# count number of songwriters\n",
    "def count_items(string):\n",
    "    if isinstance(string, str) and string.strip():\n",
    "        items = string.split(\",\")\n",
    "        cleaned_items = [item.strip() for item in items if item.strip()]\n",
    "        return len(cleaned_items)\n",
    "    else:\n",
    "        return 0 \n",
    "\n",
    "df['n_songwriters'] = df['Songwriters'].apply(count_items)\n"
   ]
  },
  {
   "cell_type": "code",
   "execution_count": 9,
   "metadata": {},
   "outputs": [],
   "source": [
    "# map songwriter genders\n",
    "def map_gender(string, lookup_dict):\n",
    "    if isinstance(string, str) and string.strip():\n",
    "        items = [item.strip() for item in string.split(\",\") if item.strip()]\n",
    "        mapped = [lookup_dict.get(item, '') for item in items]\n",
    "        return \",\".join(mapped)\n",
    "    else:\n",
    "        return ''\n",
    "\n",
    "df['songwriter_gender'] = df['Songwriters'].apply(lambda x: map_gender(x, dict_songwriter_gender))"
   ]
  },
  {
   "cell_type": "code",
   "execution_count": 10,
   "metadata": {},
   "outputs": [
    {
     "name": "stdout",
     "output_type": "stream",
     "text": [
      "25\n"
     ]
    }
   ],
   "source": [
    "# number of rows that contain \"group\" for songwriter gender\n",
    "count_songwriter_group = df['songwriter_gender'].str.contains(\"group\", na=False).sum()\n",
    "print(count_songwriter_group)"
   ]
  },
  {
   "cell_type": "code",
   "execution_count": 11,
   "metadata": {},
   "outputs": [],
   "source": [
    "# set n_songwriters to NA when genders contains \"group\"\n",
    "# avoid counting groups as one writer\n",
    "\n",
    "df.loc[df['songwriter_gender'].str.contains(\"group\", na=False), 'n_songwriters'] = np.nan\n"
   ]
  },
  {
   "cell_type": "code",
   "execution_count": 12,
   "metadata": {},
   "outputs": [
    {
     "name": "stdout",
     "output_type": "stream",
     "text": [
      "46\n"
     ]
    }
   ],
   "source": [
    "# number of rows that contain \"non-binary\" for songwriter gender\n",
    "count_songwriter_nonbinary = df['songwriter_gender'].str.contains(\"non-binary\", na=False).sum()\n",
    "print(count_songwriter_nonbinary)"
   ]
  },
  {
   "cell_type": "code",
   "execution_count": 13,
   "metadata": {},
   "outputs": [],
   "source": [
    "# create n_women and n_men\n",
    "df['n_women'] = df['songwriter_gender'].str.count(r'\\bwoman\\b').fillna(0).astype(int)\n",
    "df['n_men'] = df['songwriter_gender'].str.count(r'\\bman\\b').fillna(0).astype(int)\n",
    "\n",
    "# create pct_women and pct_men\n",
    "df['pct_women'] = np.where(\n",
    "    df['n_songwriters'] > 0,\n",
    "    (df['n_women'] / df['n_songwriters']) * 100,\n",
    "    np.nan  \n",
    ")\n",
    "df['pct_men'] = np.where(\n",
    "    df['n_songwriters'] > 0,\n",
    "    (df['n_men'] / df['n_songwriters']) * 100,\n",
    "    np.nan  \n",
    ")"
   ]
  },
  {
   "cell_type": "code",
   "execution_count": 15,
   "metadata": {},
   "outputs": [],
   "source": [
    "# standardize various ways of saying \"featuring\"\n",
    "def normalize_artist_string(s):\n",
    "    if not isinstance(s, str):\n",
    "        return ''\n",
    "    return s.replace(\"featuring\", \",\").replace(\"feat.\", \",\").replace(\"ft.\", \",\")\n",
    "\n",
    "df['Artist'] = df['Artist'].apply(normalize_artist_string)\n",
    "\n",
    "# map artist gender\n",
    "df['artist_gender'] = df['Artist'].apply(lambda x: map_gender(x, dict_artist_gender))"
   ]
  },
  {
   "cell_type": "code",
   "execution_count": 16,
   "metadata": {},
   "outputs": [],
   "source": [
    "# add artist-songwriter combination\n",
    "def get_combo(row):\n",
    "    if row['artist_gender'] == 'man' and row['songwriter_gender'] == 'man':\n",
    "        return 'male artist, male writer'\n",
    "    elif row['artist_gender'] == 'man' and row['songwriter_gender'] == 'woman':\n",
    "        return 'male artist, female writer'\n",
    "    elif row['artist_gender'] == 'woman' and row['songwriter_gender'] == 'woman':\n",
    "        return 'female artist, female writer'\n",
    "    elif row['artist_gender'] == 'woman' and row['songwriter_gender'] == 'man':\n",
    "        return 'female artist, male writer'\n",
    "    else:\n",
    "        return 'other or unknown'\n",
    "\n",
    "df['artist_writer_combo'] = df.apply(get_combo, axis=1)"
   ]
  },
  {
   "cell_type": "code",
   "execution_count": 17,
   "metadata": {},
   "outputs": [],
   "source": [
    "# create variable of individual tokens\n",
    "\n",
    "def get_tokens(text):\n",
    "    if isinstance(text, str):\n",
    "        return [word for word in word_tokenize(text.lower()) if word.isalpha()]\n",
    "    else:\n",
    "        return []\n",
    "        \n",
    "df[\"tokens\"] = df[\"Lyrics\"].apply(get_tokens)"
   ]
  },
  {
   "cell_type": "code",
   "execution_count": 72,
   "metadata": {},
   "outputs": [],
   "source": [
    "def remove_brackets(text):\n",
    "    return re.sub(r'\\[.*?\\]', '', text)\n",
    "\n",
    "df['Wikipedia_Genre'] = df['Wikipedia_Genre'].astype(str)\n",
    "\n",
    "\n",
    "df['Wikipedia_Genre'] = df['Wikipedia_Genre'].apply(remove_brackets)"
   ]
  },
  {
   "cell_type": "code",
   "execution_count": 73,
   "metadata": {},
   "outputs": [
    {
     "data": {
      "text/html": [
       "<div>\n",
       "<style scoped>\n",
       "    .dataframe tbody tr th:only-of-type {\n",
       "        vertical-align: middle;\n",
       "    }\n",
       "\n",
       "    .dataframe tbody tr th {\n",
       "        vertical-align: top;\n",
       "    }\n",
       "\n",
       "    .dataframe thead th {\n",
       "        text-align: right;\n",
       "    }\n",
       "</style>\n",
       "<table border=\"1\" class=\"dataframe\">\n",
       "  <thead>\n",
       "    <tr style=\"text-align: right;\">\n",
       "      <th></th>\n",
       "      <th>Rank</th>\n",
       "      <th>Year</th>\n",
       "      <th>Song</th>\n",
       "      <th>Artist</th>\n",
       "      <th>Lyrics</th>\n",
       "      <th>Songwriters</th>\n",
       "      <th>Wikipedia_Genre</th>\n",
       "      <th>n_songwriters</th>\n",
       "      <th>songwriter_gender</th>\n",
       "      <th>n_women</th>\n",
       "      <th>...</th>\n",
       "      <th>joy</th>\n",
       "      <th>love</th>\n",
       "      <th>anger</th>\n",
       "      <th>fear</th>\n",
       "      <th>surprise</th>\n",
       "      <th>primary_emotion</th>\n",
       "      <th>primary_emotion_score</th>\n",
       "      <th>emotion_word_count</th>\n",
       "      <th>total_words</th>\n",
       "      <th>emotion_words_per_100</th>\n",
       "    </tr>\n",
       "  </thead>\n",
       "  <tbody>\n",
       "    <tr>\n",
       "      <th>0</th>\n",
       "      <td>100</td>\n",
       "      <td>2024</td>\n",
       "      <td>Dance the Night</td>\n",
       "      <td>Dua Lipa</td>\n",
       "      <td>Baby, you can find me under the lights Diamond...</td>\n",
       "      <td>Caroline Ailin, Dua Lipa, Mark Ronson, Andrew ...</td>\n",
       "      <td>Disco, disco-pop, synth-pop</td>\n",
       "      <td>4.0</td>\n",
       "      <td>woman,woman,man,man</td>\n",
       "      <td>2</td>\n",
       "      <td>...</td>\n",
       "      <td>0.997989</td>\n",
       "      <td>0.000502</td>\n",
       "      <td>0.000370</td>\n",
       "      <td>0.000352</td>\n",
       "      <td>0.000229</td>\n",
       "      <td>joy</td>\n",
       "      <td>0.997989</td>\n",
       "      <td>51</td>\n",
       "      <td>393</td>\n",
       "      <td>12.977099</td>\n",
       "    </tr>\n",
       "    <tr>\n",
       "      <th>1</th>\n",
       "      <td>99</td>\n",
       "      <td>2024</td>\n",
       "      <td>Down Bad</td>\n",
       "      <td>Taylor Swift</td>\n",
       "      <td>Did you really beam me up In a cloud of sparkl...</td>\n",
       "      <td>Jack Antonoff, Taylor Swift</td>\n",
       "      <td>Synth-pop</td>\n",
       "      <td>2.0</td>\n",
       "      <td>man,woman</td>\n",
       "      <td>1</td>\n",
       "      <td>...</td>\n",
       "      <td>0.001997</td>\n",
       "      <td>0.001275</td>\n",
       "      <td>0.964798</td>\n",
       "      <td>0.003667</td>\n",
       "      <td>0.000302</td>\n",
       "      <td>anger</td>\n",
       "      <td>0.964798</td>\n",
       "      <td>52</td>\n",
       "      <td>469</td>\n",
       "      <td>11.087420</td>\n",
       "    </tr>\n",
       "    <tr>\n",
       "      <th>2</th>\n",
       "      <td>98</td>\n",
       "      <td>2024</td>\n",
       "      <td>The Painter</td>\n",
       "      <td>Cody Johnson</td>\n",
       "      <td>She talks about the future like she's flippin'...</td>\n",
       "      <td>Benjy Davis, Kat Higgins, Ryan Larkins</td>\n",
       "      <td>Country</td>\n",
       "      <td>3.0</td>\n",
       "      <td>man,woman,man</td>\n",
       "      <td>1</td>\n",
       "      <td>...</td>\n",
       "      <td>0.346996</td>\n",
       "      <td>0.004338</td>\n",
       "      <td>0.597996</td>\n",
       "      <td>0.014207</td>\n",
       "      <td>0.001722</td>\n",
       "      <td>anger</td>\n",
       "      <td>0.597996</td>\n",
       "      <td>20</td>\n",
       "      <td>262</td>\n",
       "      <td>7.633588</td>\n",
       "    </tr>\n",
       "    <tr>\n",
       "      <th>3</th>\n",
       "      <td>97</td>\n",
       "      <td>2024</td>\n",
       "      <td>Fe!n</td>\n",
       "      <td>Travis Scott , Playboi Carti</td>\n",
       "      <td>Just come outside for the night (Yeah) Take yo...</td>\n",
       "      <td>Playboi Carti, Travis Scott, Sheck Wes, Jahaan...</td>\n",
       "      <td>Rage</td>\n",
       "      <td>4.0</td>\n",
       "      <td>man,man,man,man</td>\n",
       "      <td>0</td>\n",
       "      <td>...</td>\n",
       "      <td>0.951564</td>\n",
       "      <td>0.002155</td>\n",
       "      <td>0.034731</td>\n",
       "      <td>0.004999</td>\n",
       "      <td>0.002998</td>\n",
       "      <td>joy</td>\n",
       "      <td>0.951564</td>\n",
       "      <td>28</td>\n",
       "      <td>572</td>\n",
       "      <td>4.895105</td>\n",
       "    </tr>\n",
       "    <tr>\n",
       "      <th>4</th>\n",
       "      <td>96</td>\n",
       "      <td>2024</td>\n",
       "      <td>Bulletproof</td>\n",
       "      <td>Nate Smith</td>\n",
       "      <td>Usually, these ol' neon lights Are pretty good...</td>\n",
       "      <td>Ashley Gorley, Ben Johnson, Hunter Phelps</td>\n",
       "      <td>Country rock</td>\n",
       "      <td>3.0</td>\n",
       "      <td>man,man,man</td>\n",
       "      <td>0</td>\n",
       "      <td>...</td>\n",
       "      <td>0.945268</td>\n",
       "      <td>0.010708</td>\n",
       "      <td>0.019300</td>\n",
       "      <td>0.004367</td>\n",
       "      <td>0.000874</td>\n",
       "      <td>joy</td>\n",
       "      <td>0.945268</td>\n",
       "      <td>30</td>\n",
       "      <td>289</td>\n",
       "      <td>10.380623</td>\n",
       "    </tr>\n",
       "  </tbody>\n",
       "</table>\n",
       "<p>5 rows × 27 columns</p>\n",
       "</div>"
      ],
      "text/plain": [
       "   Rank  Year             Song                        Artist  \\\n",
       "0   100  2024  Dance the Night                      Dua Lipa   \n",
       "1    99  2024         Down Bad                  Taylor Swift   \n",
       "2    98  2024      The Painter                  Cody Johnson   \n",
       "3    97  2024             Fe!n  Travis Scott , Playboi Carti   \n",
       "4    96  2024      Bulletproof                    Nate Smith   \n",
       "\n",
       "                                              Lyrics  \\\n",
       "0  Baby, you can find me under the lights Diamond...   \n",
       "1  Did you really beam me up In a cloud of sparkl...   \n",
       "2  She talks about the future like she's flippin'...   \n",
       "3  Just come outside for the night (Yeah) Take yo...   \n",
       "4  Usually, these ol' neon lights Are pretty good...   \n",
       "\n",
       "                                         Songwriters  \\\n",
       "0  Caroline Ailin, Dua Lipa, Mark Ronson, Andrew ...   \n",
       "1                        Jack Antonoff, Taylor Swift   \n",
       "2             Benjy Davis, Kat Higgins, Ryan Larkins   \n",
       "3  Playboi Carti, Travis Scott, Sheck Wes, Jahaan...   \n",
       "4          Ashley Gorley, Ben Johnson, Hunter Phelps   \n",
       "\n",
       "               Wikipedia_Genre  n_songwriters    songwriter_gender  n_women  \\\n",
       "0  Disco, disco-pop, synth-pop            4.0  woman,woman,man,man        2   \n",
       "1                    Synth-pop            2.0            man,woman        1   \n",
       "2                      Country            3.0        man,woman,man        1   \n",
       "3                         Rage            4.0      man,man,man,man        0   \n",
       "4                 Country rock            3.0          man,man,man        0   \n",
       "\n",
       "   ...       joy      love     anger      fear  surprise primary_emotion  \\\n",
       "0  ...  0.997989  0.000502  0.000370  0.000352  0.000229             joy   \n",
       "1  ...  0.001997  0.001275  0.964798  0.003667  0.000302           anger   \n",
       "2  ...  0.346996  0.004338  0.597996  0.014207  0.001722           anger   \n",
       "3  ...  0.951564  0.002155  0.034731  0.004999  0.002998             joy   \n",
       "4  ...  0.945268  0.010708  0.019300  0.004367  0.000874             joy   \n",
       "\n",
       "   primary_emotion_score  emotion_word_count  total_words  \\\n",
       "0               0.997989                  51          393   \n",
       "1               0.964798                  52          469   \n",
       "2               0.597996                  20          262   \n",
       "3               0.951564                  28          572   \n",
       "4               0.945268                  30          289   \n",
       "\n",
       "   emotion_words_per_100  \n",
       "0              12.977099  \n",
       "1              11.087420  \n",
       "2               7.633588  \n",
       "3               4.895105  \n",
       "4              10.380623  \n",
       "\n",
       "[5 rows x 27 columns]"
      ]
     },
     "execution_count": 73,
     "metadata": {},
     "output_type": "execute_result"
    }
   ],
   "source": [
    "df.head()"
   ]
  },
  {
   "cell_type": "markdown",
   "metadata": {},
   "source": [
    "# Sentiment Analysis"
   ]
  },
  {
   "cell_type": "code",
   "execution_count": 19,
   "metadata": {},
   "outputs": [
    {
     "name": "stderr",
     "output_type": "stream",
     "text": [
      "Device set to use mps:0\n",
      "/Users/mollysiebecker/DATA 698/capstone-env/lib/python3.12/site-packages/transformers/pipelines/text_classification.py:106: UserWarning: `return_all_scores` is now deprecated,  if want a similar functionality use `top_k=None` instead of `return_all_scores=True` or `top_k=1` instead of `return_all_scores=False`.\n",
      "  warnings.warn(\n"
     ]
    }
   ],
   "source": [
    "classifier = pipeline(\n",
    "    \"text-classification\",\n",
    "    model=\"bhadresh-savani/distilbert-base-uncased-emotion\",\n",
    "    return_all_scores=True,\n",
    "    truncation=True  \n",
    ")"
   ]
  },
  {
   "cell_type": "code",
   "execution_count": 20,
   "metadata": {},
   "outputs": [],
   "source": [
    "# apply classifier and extract scores\n",
    "def get_emotion_scores(text):\n",
    "    scores = classifier(text)[0] \n",
    "    return {d['label']: d['score'] for d in scores}\n",
    "\n",
    "emotion_df = df['Lyrics'].apply(get_emotion_scores).apply(pd.Series)\n",
    "\n",
    "# merge with original data\n",
    "df = pd.concat([df, emotion_df], axis=1)"
   ]
  },
  {
   "cell_type": "code",
   "execution_count": 21,
   "metadata": {},
   "outputs": [],
   "source": [
    "# assign primary emotion\n",
    "df['primary_emotion'] = df[['sadness', 'love', 'joy', 'fear', 'anger', 'surprise']].idxmax(axis=1)\n",
    "# assign primary emotion confidence score\n",
    "df['primary_emotion_score'] = df[['sadness', 'love', 'joy', 'fear', 'anger', 'surprise']].max(axis=1)"
   ]
  },
  {
   "cell_type": "code",
   "execution_count": 22,
   "metadata": {},
   "outputs": [],
   "source": [
    "# initialize NRC emotion dictionary\n",
    "nrc_emotions = defaultdict(set)\n",
    "\n",
    "# load the lexicon\n",
    "with open(\"/Users/mollysiebecker/DATA 698/NRC-Emotion-Lexicon-Wordlevel-v0.92.txt\", \"r\", encoding=\"utf-8\") as f:\n",
    "    for line in f:\n",
    "        word, emotion, association = line.strip().split('\\t')\n",
    "        if association == '1':\n",
    "            nrc_emotions[word].add(emotion)\n",
    "\n",
    "# find rate of emotion words\n",
    "def count_total_emotion_words(tokens, lexicon=nrc_emotions):\n",
    "    return sum(1 for token in tokens if token in lexicon)\n",
    "\n",
    "df['emotion_word_count'] = df['tokens'].apply(count_total_emotion_words)\n",
    "df['total_words'] = df['tokens'].apply(len)\n",
    "df['emotion_words_per_100'] = df['emotion_word_count'] / df['total_words'] * 100"
   ]
  },
  {
   "cell_type": "markdown",
   "metadata": {},
   "source": [
    "# Exploratory Data Analysis"
   ]
  },
  {
   "cell_type": "code",
   "execution_count": 23,
   "metadata": {},
   "outputs": [
    {
     "data": {
      "text/html": [
       "<div>\n",
       "<style scoped>\n",
       "    .dataframe tbody tr th:only-of-type {\n",
       "        vertical-align: middle;\n",
       "    }\n",
       "\n",
       "    .dataframe tbody tr th {\n",
       "        vertical-align: top;\n",
       "    }\n",
       "\n",
       "    .dataframe thead th {\n",
       "        text-align: right;\n",
       "    }\n",
       "</style>\n",
       "<table border=\"1\" class=\"dataframe\">\n",
       "  <thead>\n",
       "    <tr style=\"text-align: right;\">\n",
       "      <th></th>\n",
       "      <th>Rank</th>\n",
       "      <th>Year</th>\n",
       "      <th>Song</th>\n",
       "      <th>Artist</th>\n",
       "      <th>Lyrics</th>\n",
       "      <th>Songwriters</th>\n",
       "      <th>Wikipedia_Genre</th>\n",
       "      <th>n_songwriters</th>\n",
       "      <th>songwriter_gender</th>\n",
       "      <th>n_women</th>\n",
       "      <th>...</th>\n",
       "      <th>joy</th>\n",
       "      <th>love</th>\n",
       "      <th>anger</th>\n",
       "      <th>fear</th>\n",
       "      <th>surprise</th>\n",
       "      <th>primary_emotion</th>\n",
       "      <th>primary_emotion_score</th>\n",
       "      <th>emotion_word_count</th>\n",
       "      <th>total_words</th>\n",
       "      <th>emotion_words_per_100</th>\n",
       "    </tr>\n",
       "  </thead>\n",
       "  <tbody>\n",
       "    <tr>\n",
       "      <th>0</th>\n",
       "      <td>100</td>\n",
       "      <td>2024</td>\n",
       "      <td>Dance the Night</td>\n",
       "      <td>Dua Lipa</td>\n",
       "      <td>Baby, you can find me under the lights Diamond...</td>\n",
       "      <td>Caroline Ailin, Dua Lipa, Mark Ronson, Andrew ...</td>\n",
       "      <td>Disco, disco-pop, synth-pop</td>\n",
       "      <td>4.0</td>\n",
       "      <td>woman,woman,man,man</td>\n",
       "      <td>2</td>\n",
       "      <td>...</td>\n",
       "      <td>0.997989</td>\n",
       "      <td>0.000502</td>\n",
       "      <td>0.000370</td>\n",
       "      <td>0.000352</td>\n",
       "      <td>0.000229</td>\n",
       "      <td>joy</td>\n",
       "      <td>0.997989</td>\n",
       "      <td>51</td>\n",
       "      <td>393</td>\n",
       "      <td>12.977099</td>\n",
       "    </tr>\n",
       "    <tr>\n",
       "      <th>1</th>\n",
       "      <td>99</td>\n",
       "      <td>2024</td>\n",
       "      <td>Down Bad</td>\n",
       "      <td>Taylor Swift</td>\n",
       "      <td>Did you really beam me up In a cloud of sparkl...</td>\n",
       "      <td>Jack Antonoff, Taylor Swift</td>\n",
       "      <td>Synth-pop</td>\n",
       "      <td>2.0</td>\n",
       "      <td>man,woman</td>\n",
       "      <td>1</td>\n",
       "      <td>...</td>\n",
       "      <td>0.001997</td>\n",
       "      <td>0.001275</td>\n",
       "      <td>0.964798</td>\n",
       "      <td>0.003667</td>\n",
       "      <td>0.000302</td>\n",
       "      <td>anger</td>\n",
       "      <td>0.964798</td>\n",
       "      <td>52</td>\n",
       "      <td>469</td>\n",
       "      <td>11.087420</td>\n",
       "    </tr>\n",
       "    <tr>\n",
       "      <th>2</th>\n",
       "      <td>98</td>\n",
       "      <td>2024</td>\n",
       "      <td>The Painter</td>\n",
       "      <td>Cody Johnson</td>\n",
       "      <td>She talks about the future like she's flippin'...</td>\n",
       "      <td>Benjy Davis, Kat Higgins, Ryan Larkins</td>\n",
       "      <td>Country</td>\n",
       "      <td>3.0</td>\n",
       "      <td>man,woman,man</td>\n",
       "      <td>1</td>\n",
       "      <td>...</td>\n",
       "      <td>0.346996</td>\n",
       "      <td>0.004338</td>\n",
       "      <td>0.597996</td>\n",
       "      <td>0.014207</td>\n",
       "      <td>0.001722</td>\n",
       "      <td>anger</td>\n",
       "      <td>0.597996</td>\n",
       "      <td>20</td>\n",
       "      <td>262</td>\n",
       "      <td>7.633588</td>\n",
       "    </tr>\n",
       "    <tr>\n",
       "      <th>3</th>\n",
       "      <td>97</td>\n",
       "      <td>2024</td>\n",
       "      <td>Fe!n</td>\n",
       "      <td>Travis Scott , Playboi Carti</td>\n",
       "      <td>Just come outside for the night (Yeah) Take yo...</td>\n",
       "      <td>Playboi Carti, Travis Scott, Sheck Wes, Jahaan...</td>\n",
       "      <td>Rage</td>\n",
       "      <td>4.0</td>\n",
       "      <td>man,man,man,man</td>\n",
       "      <td>0</td>\n",
       "      <td>...</td>\n",
       "      <td>0.951564</td>\n",
       "      <td>0.002155</td>\n",
       "      <td>0.034731</td>\n",
       "      <td>0.004999</td>\n",
       "      <td>0.002998</td>\n",
       "      <td>joy</td>\n",
       "      <td>0.951564</td>\n",
       "      <td>28</td>\n",
       "      <td>572</td>\n",
       "      <td>4.895105</td>\n",
       "    </tr>\n",
       "    <tr>\n",
       "      <th>4</th>\n",
       "      <td>96</td>\n",
       "      <td>2024</td>\n",
       "      <td>Bulletproof</td>\n",
       "      <td>Nate Smith</td>\n",
       "      <td>Usually, these ol' neon lights Are pretty good...</td>\n",
       "      <td>Ashley Gorley, Ben Johnson, Hunter Phelps</td>\n",
       "      <td>Country rock</td>\n",
       "      <td>3.0</td>\n",
       "      <td>man,man,man</td>\n",
       "      <td>0</td>\n",
       "      <td>...</td>\n",
       "      <td>0.945268</td>\n",
       "      <td>0.010708</td>\n",
       "      <td>0.019300</td>\n",
       "      <td>0.004367</td>\n",
       "      <td>0.000874</td>\n",
       "      <td>joy</td>\n",
       "      <td>0.945268</td>\n",
       "      <td>30</td>\n",
       "      <td>289</td>\n",
       "      <td>10.380623</td>\n",
       "    </tr>\n",
       "  </tbody>\n",
       "</table>\n",
       "<p>5 rows × 27 columns</p>\n",
       "</div>"
      ],
      "text/plain": [
       "   Rank  Year             Song                        Artist  \\\n",
       "0   100  2024  Dance the Night                      Dua Lipa   \n",
       "1    99  2024         Down Bad                  Taylor Swift   \n",
       "2    98  2024      The Painter                  Cody Johnson   \n",
       "3    97  2024             Fe!n  Travis Scott , Playboi Carti   \n",
       "4    96  2024      Bulletproof                    Nate Smith   \n",
       "\n",
       "                                              Lyrics  \\\n",
       "0  Baby, you can find me under the lights Diamond...   \n",
       "1  Did you really beam me up In a cloud of sparkl...   \n",
       "2  She talks about the future like she's flippin'...   \n",
       "3  Just come outside for the night (Yeah) Take yo...   \n",
       "4  Usually, these ol' neon lights Are pretty good...   \n",
       "\n",
       "                                         Songwriters  \\\n",
       "0  Caroline Ailin, Dua Lipa, Mark Ronson, Andrew ...   \n",
       "1                        Jack Antonoff, Taylor Swift   \n",
       "2             Benjy Davis, Kat Higgins, Ryan Larkins   \n",
       "3  Playboi Carti, Travis Scott, Sheck Wes, Jahaan...   \n",
       "4          Ashley Gorley, Ben Johnson, Hunter Phelps   \n",
       "\n",
       "               Wikipedia_Genre  n_songwriters    songwriter_gender  n_women  \\\n",
       "0  Disco, disco-pop, synth-pop            4.0  woman,woman,man,man        2   \n",
       "1                    Synth-pop            2.0            man,woman        1   \n",
       "2                      Country            3.0        man,woman,man        1   \n",
       "3                         Rage            4.0      man,man,man,man        0   \n",
       "4                 Country rock            3.0          man,man,man        0   \n",
       "\n",
       "   ...       joy      love     anger      fear  surprise primary_emotion  \\\n",
       "0  ...  0.997989  0.000502  0.000370  0.000352  0.000229             joy   \n",
       "1  ...  0.001997  0.001275  0.964798  0.003667  0.000302           anger   \n",
       "2  ...  0.346996  0.004338  0.597996  0.014207  0.001722           anger   \n",
       "3  ...  0.951564  0.002155  0.034731  0.004999  0.002998             joy   \n",
       "4  ...  0.945268  0.010708  0.019300  0.004367  0.000874             joy   \n",
       "\n",
       "   primary_emotion_score  emotion_word_count  total_words  \\\n",
       "0               0.997989                  51          393   \n",
       "1               0.964798                  52          469   \n",
       "2               0.597996                  20          262   \n",
       "3               0.951564                  28          572   \n",
       "4               0.945268                  30          289   \n",
       "\n",
       "   emotion_words_per_100  \n",
       "0              12.977099  \n",
       "1              11.087420  \n",
       "2               7.633588  \n",
       "3               4.895105  \n",
       "4              10.380623  \n",
       "\n",
       "[5 rows x 27 columns]"
      ]
     },
     "execution_count": 23,
     "metadata": {},
     "output_type": "execute_result"
    }
   ],
   "source": [
    "df.head()"
   ]
  },
  {
   "cell_type": "code",
   "execution_count": 24,
   "metadata": {},
   "outputs": [
    {
     "data": {
      "text/html": [
       "<div>\n",
       "<style scoped>\n",
       "    .dataframe tbody tr th:only-of-type {\n",
       "        vertical-align: middle;\n",
       "    }\n",
       "\n",
       "    .dataframe tbody tr th {\n",
       "        vertical-align: top;\n",
       "    }\n",
       "\n",
       "    .dataframe thead th {\n",
       "        text-align: right;\n",
       "    }\n",
       "</style>\n",
       "<table border=\"1\" class=\"dataframe\">\n",
       "  <thead>\n",
       "    <tr style=\"text-align: right;\">\n",
       "      <th></th>\n",
       "      <th>Rank</th>\n",
       "      <th>Year</th>\n",
       "      <th>n_songwriters</th>\n",
       "      <th>n_women</th>\n",
       "      <th>n_men</th>\n",
       "      <th>pct_women</th>\n",
       "      <th>pct_men</th>\n",
       "      <th>sadness</th>\n",
       "      <th>joy</th>\n",
       "      <th>love</th>\n",
       "      <th>anger</th>\n",
       "      <th>fear</th>\n",
       "      <th>surprise</th>\n",
       "      <th>primary_emotion_score</th>\n",
       "      <th>emotion_word_count</th>\n",
       "      <th>total_words</th>\n",
       "      <th>emotion_words_per_100</th>\n",
       "    </tr>\n",
       "  </thead>\n",
       "  <tbody>\n",
       "    <tr>\n",
       "      <th>count</th>\n",
       "      <td>5949.000000</td>\n",
       "      <td>5949.000000</td>\n",
       "      <td>5924.000000</td>\n",
       "      <td>5949.000000</td>\n",
       "      <td>5949.000000</td>\n",
       "      <td>4789.000000</td>\n",
       "      <td>4789.000000</td>\n",
       "      <td>5949.000000</td>\n",
       "      <td>5949.000000</td>\n",
       "      <td>5949.000000</td>\n",
       "      <td>5949.000000</td>\n",
       "      <td>5949.000000</td>\n",
       "      <td>5949.000000</td>\n",
       "      <td>5949.000000</td>\n",
       "      <td>5949.000000</td>\n",
       "      <td>5949.000000</td>\n",
       "      <td>5949.000000</td>\n",
       "    </tr>\n",
       "    <tr>\n",
       "      <th>mean</th>\n",
       "      <td>50.447806</td>\n",
       "      <td>1994.505799</td>\n",
       "      <td>2.167961</td>\n",
       "      <td>0.299042</td>\n",
       "      <td>1.779291</td>\n",
       "      <td>14.065397</td>\n",
       "      <td>83.266141</td>\n",
       "      <td>0.224857</td>\n",
       "      <td>0.434712</td>\n",
       "      <td>0.090163</td>\n",
       "      <td>0.183472</td>\n",
       "      <td>0.057246</td>\n",
       "      <td>0.009550</td>\n",
       "      <td>0.866071</td>\n",
       "      <td>37.802824</td>\n",
       "      <td>377.889225</td>\n",
       "      <td>10.185078</td>\n",
       "    </tr>\n",
       "    <tr>\n",
       "      <th>std</th>\n",
       "      <td>28.893716</td>\n",
       "      <td>17.212784</td>\n",
       "      <td>2.131736</td>\n",
       "      <td>0.615727</td>\n",
       "      <td>1.844730</td>\n",
       "      <td>26.551674</td>\n",
       "      <td>27.928486</td>\n",
       "      <td>0.369323</td>\n",
       "      <td>0.430121</td>\n",
       "      <td>0.248471</td>\n",
       "      <td>0.311096</td>\n",
       "      <td>0.191955</td>\n",
       "      <td>0.072755</td>\n",
       "      <td>0.170357</td>\n",
       "      <td>25.033568</td>\n",
       "      <td>192.663242</td>\n",
       "      <td>4.690712</td>\n",
       "    </tr>\n",
       "    <tr>\n",
       "      <th>min</th>\n",
       "      <td>1.000000</td>\n",
       "      <td>1965.000000</td>\n",
       "      <td>0.000000</td>\n",
       "      <td>0.000000</td>\n",
       "      <td>0.000000</td>\n",
       "      <td>0.000000</td>\n",
       "      <td>0.000000</td>\n",
       "      <td>0.000150</td>\n",
       "      <td>0.000153</td>\n",
       "      <td>0.000119</td>\n",
       "      <td>0.000088</td>\n",
       "      <td>0.000090</td>\n",
       "      <td>0.000069</td>\n",
       "      <td>0.278330</td>\n",
       "      <td>0.000000</td>\n",
       "      <td>8.000000</td>\n",
       "      <td>0.000000</td>\n",
       "    </tr>\n",
       "    <tr>\n",
       "      <th>25%</th>\n",
       "      <td>25.000000</td>\n",
       "      <td>1980.000000</td>\n",
       "      <td>1.000000</td>\n",
       "      <td>0.000000</td>\n",
       "      <td>1.000000</td>\n",
       "      <td>0.000000</td>\n",
       "      <td>66.666667</td>\n",
       "      <td>0.002065</td>\n",
       "      <td>0.007095</td>\n",
       "      <td>0.000745</td>\n",
       "      <td>0.001241</td>\n",
       "      <td>0.000544</td>\n",
       "      <td>0.000294</td>\n",
       "      <td>0.769781</td>\n",
       "      <td>20.000000</td>\n",
       "      <td>245.000000</td>\n",
       "      <td>7.017544</td>\n",
       "    </tr>\n",
       "    <tr>\n",
       "      <th>50%</th>\n",
       "      <td>50.000000</td>\n",
       "      <td>1995.000000</td>\n",
       "      <td>2.000000</td>\n",
       "      <td>0.000000</td>\n",
       "      <td>1.000000</td>\n",
       "      <td>0.000000</td>\n",
       "      <td>100.000000</td>\n",
       "      <td>0.013859</td>\n",
       "      <td>0.252605</td>\n",
       "      <td>0.002575</td>\n",
       "      <td>0.012353</td>\n",
       "      <td>0.002199</td>\n",
       "      <td>0.000763</td>\n",
       "      <td>0.959142</td>\n",
       "      <td>32.000000</td>\n",
       "      <td>333.000000</td>\n",
       "      <td>9.477124</td>\n",
       "    </tr>\n",
       "    <tr>\n",
       "      <th>75%</th>\n",
       "      <td>76.000000</td>\n",
       "      <td>2009.000000</td>\n",
       "      <td>3.000000</td>\n",
       "      <td>0.000000</td>\n",
       "      <td>2.000000</td>\n",
       "      <td>20.000000</td>\n",
       "      <td>100.000000</td>\n",
       "      <td>0.247862</td>\n",
       "      <td>0.962960</td>\n",
       "      <td>0.010568</td>\n",
       "      <td>0.204802</td>\n",
       "      <td>0.010053</td>\n",
       "      <td>0.001667</td>\n",
       "      <td>0.994292</td>\n",
       "      <td>49.000000</td>\n",
       "      <td>464.000000</td>\n",
       "      <td>12.592593</td>\n",
       "    </tr>\n",
       "    <tr>\n",
       "      <th>max</th>\n",
       "      <td>100.000000</td>\n",
       "      <td>2024.000000</td>\n",
       "      <td>29.000000</td>\n",
       "      <td>5.000000</td>\n",
       "      <td>27.000000</td>\n",
       "      <td>100.000000</td>\n",
       "      <td>100.000000</td>\n",
       "      <td>0.999109</td>\n",
       "      <td>0.999017</td>\n",
       "      <td>0.995726</td>\n",
       "      <td>0.997875</td>\n",
       "      <td>0.997882</td>\n",
       "      <td>0.991226</td>\n",
       "      <td>0.999109</td>\n",
       "      <td>264.000000</td>\n",
       "      <td>2538.000000</td>\n",
       "      <td>42.105263</td>\n",
       "    </tr>\n",
       "  </tbody>\n",
       "</table>\n",
       "</div>"
      ],
      "text/plain": [
       "              Rank         Year  n_songwriters      n_women        n_men  \\\n",
       "count  5949.000000  5949.000000    5924.000000  5949.000000  5949.000000   \n",
       "mean     50.447806  1994.505799       2.167961     0.299042     1.779291   \n",
       "std      28.893716    17.212784       2.131736     0.615727     1.844730   \n",
       "min       1.000000  1965.000000       0.000000     0.000000     0.000000   \n",
       "25%      25.000000  1980.000000       1.000000     0.000000     1.000000   \n",
       "50%      50.000000  1995.000000       2.000000     0.000000     1.000000   \n",
       "75%      76.000000  2009.000000       3.000000     0.000000     2.000000   \n",
       "max     100.000000  2024.000000      29.000000     5.000000    27.000000   \n",
       "\n",
       "         pct_women      pct_men      sadness          joy         love  \\\n",
       "count  4789.000000  4789.000000  5949.000000  5949.000000  5949.000000   \n",
       "mean     14.065397    83.266141     0.224857     0.434712     0.090163   \n",
       "std      26.551674    27.928486     0.369323     0.430121     0.248471   \n",
       "min       0.000000     0.000000     0.000150     0.000153     0.000119   \n",
       "25%       0.000000    66.666667     0.002065     0.007095     0.000745   \n",
       "50%       0.000000   100.000000     0.013859     0.252605     0.002575   \n",
       "75%      20.000000   100.000000     0.247862     0.962960     0.010568   \n",
       "max     100.000000   100.000000     0.999109     0.999017     0.995726   \n",
       "\n",
       "             anger         fear     surprise  primary_emotion_score  \\\n",
       "count  5949.000000  5949.000000  5949.000000            5949.000000   \n",
       "mean      0.183472     0.057246     0.009550               0.866071   \n",
       "std       0.311096     0.191955     0.072755               0.170357   \n",
       "min       0.000088     0.000090     0.000069               0.278330   \n",
       "25%       0.001241     0.000544     0.000294               0.769781   \n",
       "50%       0.012353     0.002199     0.000763               0.959142   \n",
       "75%       0.204802     0.010053     0.001667               0.994292   \n",
       "max       0.997875     0.997882     0.991226               0.999109   \n",
       "\n",
       "       emotion_word_count  total_words  emotion_words_per_100  \n",
       "count         5949.000000  5949.000000            5949.000000  \n",
       "mean            37.802824   377.889225              10.185078  \n",
       "std             25.033568   192.663242               4.690712  \n",
       "min              0.000000     8.000000               0.000000  \n",
       "25%             20.000000   245.000000               7.017544  \n",
       "50%             32.000000   333.000000               9.477124  \n",
       "75%             49.000000   464.000000              12.592593  \n",
       "max            264.000000  2538.000000              42.105263  "
      ]
     },
     "execution_count": 24,
     "metadata": {},
     "output_type": "execute_result"
    }
   ],
   "source": [
    "df.describe()"
   ]
  },
  {
   "cell_type": "code",
   "execution_count": 25,
   "metadata": {},
   "outputs": [
    {
     "name": "stderr",
     "output_type": "stream",
     "text": [
      "/Users/mollysiebecker/DATA 698/capstone-env/lib/python3.12/site-packages/seaborn/axisgrid.py:718: UserWarning: Using the violinplot function without specifying `order` is likely to produce an incorrect plot.\n",
      "  warnings.warn(warning)\n"
     ]
    },
    {
     "data": {
      "image/png": "[encoded data removed]",
      "text/plain": [
       "<Figure size 1050x700 with 6 Axes>"
      ]
     },
     "metadata": {},
     "output_type": "display_data"
    }
   ],
   "source": [
    "# visualize quantitative response variable distributions\n",
    "df_quant_long = df[['sadness', 'anger', 'joy', 'love', 'fear', 'surprise']].melt(var_name='variable', value_name='value')\n",
    "\n",
    "g = sns.FacetGrid(df_quant_long, col='variable', col_wrap=3, height=3.5)\n",
    "g.map(sns.violinplot, 'value')\n",
    "plt.tight_layout()\n",
    "plt.show()"
   ]
  },
  {
   "cell_type": "code",
   "execution_count": 26,
   "metadata": {},
   "outputs": [
    {
     "data": {
      "image/png": "[encoded data removed]",
      "text/plain": [
       "<Figure size 640x480 with 1 Axes>"
      ]
     },
     "metadata": {},
     "output_type": "display_data"
    }
   ],
   "source": [
    "plt.violinplot(df['primary_emotion_score'], orientation='horizontal')\n",
    "plt.title('Distribution of Primary Emotion Confidence Score')\n",
    "plt.xlabel('Confidence Score')\n",
    "plt.yticks([])           \n",
    "plt.tick_params(axis='y', length=0)  \n",
    "plt.tight_layout()\n",
    "plt.show()"
   ]
  },
  {
   "cell_type": "code",
   "execution_count": 27,
   "metadata": {},
   "outputs": [
    {
     "data": {
      "image/png": "[encoded data removed]",
      "text/plain": [
       "<Figure size 640x480 with 1 Axes>"
      ]
     },
     "metadata": {},
     "output_type": "display_data"
    }
   ],
   "source": [
    "plt.violinplot(df['emotion_words_per_100'], orientation='horizontal')\n",
    "plt.title('Distribution of Emotion-Laden Word Rate')\n",
    "plt.xlabel('Emotion-Laden Words Per 100')\n",
    "plt.yticks([])   \n",
    "plt.tick_params(axis='y', length=0)\n",
    "plt.tight_layout()\n",
    "plt.show()"
   ]
  },
  {
   "cell_type": "code",
   "execution_count": 28,
   "metadata": {},
   "outputs": [
    {
     "name": "stderr",
     "output_type": "stream",
     "text": [
      "/var/folders/1v/5j_tx2md59j_pnk_h08c70nc0000gn/T/ipykernel_31619/4033048355.py:13: UserWarning: No artists with labels found to put in legend.  Note that artists whose label start with an underscore are ignored when legend() is called with no argument.\n",
      "  plt.legend()\n"
     ]
    },
    {
     "data": {
      "image/png": "[encoded data removed]",
      "text/plain": [
       "<Figure size 1000x600 with 1 Axes>"
      ]
     },
     "metadata": {},
     "output_type": "display_data"
    }
   ],
   "source": [
    "# visualize number of songwriters over time\n",
    "df_avg_songwriters_by_year = df.groupby('Year')[['n_songwriters']].mean().reset_index()\n",
    "\n",
    "plt.figure(figsize=(10, 6))\n",
    "\n",
    "plt.plot(df_avg_songwriters_by_year['Year'], df_avg_songwriters_by_year['n_songwriters'])\n",
    "\n",
    "plt.title('Number of Songwriters Over Time')\n",
    "plt.xlabel('Year')\n",
    "plt.ylabel('Average Number of Songwriters Per Song')\n",
    "plt.grid(False)\n",
    "plt.xticks(range(1965, 2025, 10))\n",
    "plt.legend()\n",
    "plt.tight_layout()\n",
    "plt.show()"
   ]
  },
  {
   "cell_type": "code",
   "execution_count": 29,
   "metadata": {},
   "outputs": [
    {
     "data": {
      "image/png": "[encoded data removed]",
      "text/plain": [
       "<Figure size 640x480 with 1 Axes>"
      ]
     },
     "metadata": {},
     "output_type": "display_data"
    }
   ],
   "source": [
    "# visualize relative composition of songwriting teams\n",
    "plt.hist(df['pct_women'], bins=20, alpha=0.4, label='Percent Women', color='blue')\n",
    "plt.hist(df['pct_men'], bins=20, alpha=0.4, label='Percent Men', color='red')\n",
    "plt.title('Composition of Songwriting Teams')\n",
    "plt.xlabel('Percent of Total Songwriters')\n",
    "plt.ylabel('Number of Songs')\n",
    "plt.legend()\n",
    "plt.grid(False)\n",
    "plt.show()"
   ]
  },
  {
   "cell_type": "markdown",
   "metadata": {},
   "source": [
    "# Significance Tests"
   ]
  },
  {
   "cell_type": "code",
   "execution_count": 30,
   "metadata": {},
   "outputs": [],
   "source": [
    "# drop duplicate songs that charted in multiple years\n",
    "df_unique_songs = df.drop(columns=[\"Year\", \"Rank\", \"tokens\"]).drop_duplicates()\n",
    "\n",
    "# songs with one songwriter\n",
    "df_one_songwriter = df_unique_songs[\n",
    "    (df_unique_songs['n_songwriters']==1) &\n",
    "    (df_unique_songs['songwriter_gender'] != 'unknown')\n",
    "    ]\n",
    "\n",
    "# songs with one artist\n",
    "df_one_artist = df_unique_songs[\n",
    "    (df_unique_songs['artist_gender'] == 'man') |\n",
    "    (df_unique_songs['artist_gender'] == 'woman') |\n",
    "    (df_unique_songs['artist_gender'] == 'non-binary')\n",
    "]\n",
    "\n",
    "# songs with one artist and one songwriter\n",
    "df_one_artist_one_writer = df_unique_songs[\n",
    "    (df_unique_songs['n_songwriters']==1) &\n",
    "    (df_unique_songs['songwriter_gender'] != 'unknown') &\n",
    "    ((df_unique_songs['artist_gender'] == 'man') |\n",
    "    (df_unique_songs['artist_gender'] == 'woman') |\n",
    "    (df_unique_songs['artist_gender'] == 'non-binary'))\n",
    "]"
   ]
  },
  {
   "cell_type": "markdown",
   "metadata": {},
   "source": [
    "## Categorical & Quantitative Variable"
   ]
  },
  {
   "cell_type": "code",
   "execution_count": 31,
   "metadata": {},
   "outputs": [
    {
     "data": {
      "text/html": [
       "<div>\n",
       "<style scoped>\n",
       "    .dataframe tbody tr th:only-of-type {\n",
       "        vertical-align: middle;\n",
       "    }\n",
       "\n",
       "    .dataframe tbody tr th {\n",
       "        vertical-align: top;\n",
       "    }\n",
       "\n",
       "    .dataframe thead th {\n",
       "        text-align: right;\n",
       "    }\n",
       "</style>\n",
       "<table border=\"1\" class=\"dataframe\">\n",
       "  <thead>\n",
       "    <tr style=\"text-align: right;\">\n",
       "      <th></th>\n",
       "      <th>n_songwriters</th>\n",
       "      <th>n_women</th>\n",
       "      <th>n_men</th>\n",
       "      <th>pct_women</th>\n",
       "      <th>pct_men</th>\n",
       "      <th>sadness</th>\n",
       "      <th>joy</th>\n",
       "      <th>love</th>\n",
       "      <th>anger</th>\n",
       "      <th>fear</th>\n",
       "      <th>surprise</th>\n",
       "      <th>primary_emotion_score</th>\n",
       "      <th>emotion_word_count</th>\n",
       "      <th>total_words</th>\n",
       "      <th>emotion_words_per_100</th>\n",
       "    </tr>\n",
       "  </thead>\n",
       "  <tbody>\n",
       "    <tr>\n",
       "      <th>count</th>\n",
       "      <td>1353.0</td>\n",
       "      <td>1353.0</td>\n",
       "      <td>1353.0</td>\n",
       "      <td>1353.0</td>\n",
       "      <td>1353.0</td>\n",
       "      <td>1353.000000</td>\n",
       "      <td>1353.000000</td>\n",
       "      <td>1353.000000</td>\n",
       "      <td>1353.000000</td>\n",
       "      <td>1353.000000</td>\n",
       "      <td>1353.000000</td>\n",
       "      <td>1353.000000</td>\n",
       "      <td>1353.000000</td>\n",
       "      <td>1353.000000</td>\n",
       "      <td>1353.000000</td>\n",
       "    </tr>\n",
       "    <tr>\n",
       "      <th>mean</th>\n",
       "      <td>1.0</td>\n",
       "      <td>0.0</td>\n",
       "      <td>1.0</td>\n",
       "      <td>0.0</td>\n",
       "      <td>100.0</td>\n",
       "      <td>0.235312</td>\n",
       "      <td>0.422002</td>\n",
       "      <td>0.094052</td>\n",
       "      <td>0.170678</td>\n",
       "      <td>0.067598</td>\n",
       "      <td>0.010357</td>\n",
       "      <td>0.869377</td>\n",
       "      <td>28.894309</td>\n",
       "      <td>294.048041</td>\n",
       "      <td>10.028626</td>\n",
       "    </tr>\n",
       "    <tr>\n",
       "      <th>std</th>\n",
       "      <td>0.0</td>\n",
       "      <td>0.0</td>\n",
       "      <td>0.0</td>\n",
       "      <td>0.0</td>\n",
       "      <td>0.0</td>\n",
       "      <td>0.375880</td>\n",
       "      <td>0.432744</td>\n",
       "      <td>0.258375</td>\n",
       "      <td>0.301095</td>\n",
       "      <td>0.210468</td>\n",
       "      <td>0.074095</td>\n",
       "      <td>0.170218</td>\n",
       "      <td>18.097408</td>\n",
       "      <td>133.664985</td>\n",
       "      <td>4.651866</td>\n",
       "    </tr>\n",
       "    <tr>\n",
       "      <th>min</th>\n",
       "      <td>1.0</td>\n",
       "      <td>0.0</td>\n",
       "      <td>1.0</td>\n",
       "      <td>0.0</td>\n",
       "      <td>100.0</td>\n",
       "      <td>0.000192</td>\n",
       "      <td>0.000193</td>\n",
       "      <td>0.000126</td>\n",
       "      <td>0.000111</td>\n",
       "      <td>0.000099</td>\n",
       "      <td>0.000091</td>\n",
       "      <td>0.313143</td>\n",
       "      <td>0.000000</td>\n",
       "      <td>8.000000</td>\n",
       "      <td>0.000000</td>\n",
       "    </tr>\n",
       "    <tr>\n",
       "      <th>25%</th>\n",
       "      <td>1.0</td>\n",
       "      <td>0.0</td>\n",
       "      <td>1.0</td>\n",
       "      <td>0.0</td>\n",
       "      <td>100.0</td>\n",
       "      <td>0.001886</td>\n",
       "      <td>0.005273</td>\n",
       "      <td>0.000711</td>\n",
       "      <td>0.001108</td>\n",
       "      <td>0.000527</td>\n",
       "      <td>0.000292</td>\n",
       "      <td>0.773019</td>\n",
       "      <td>16.000000</td>\n",
       "      <td>205.000000</td>\n",
       "      <td>6.782334</td>\n",
       "    </tr>\n",
       "    <tr>\n",
       "      <th>50%</th>\n",
       "      <td>1.0</td>\n",
       "      <td>0.0</td>\n",
       "      <td>1.0</td>\n",
       "      <td>0.0</td>\n",
       "      <td>100.0</td>\n",
       "      <td>0.012840</td>\n",
       "      <td>0.191860</td>\n",
       "      <td>0.002360</td>\n",
       "      <td>0.009692</td>\n",
       "      <td>0.002119</td>\n",
       "      <td>0.000736</td>\n",
       "      <td>0.961831</td>\n",
       "      <td>25.000000</td>\n",
       "      <td>268.000000</td>\n",
       "      <td>9.271523</td>\n",
       "    </tr>\n",
       "    <tr>\n",
       "      <th>75%</th>\n",
       "      <td>1.0</td>\n",
       "      <td>0.0</td>\n",
       "      <td>1.0</td>\n",
       "      <td>0.0</td>\n",
       "      <td>100.0</td>\n",
       "      <td>0.336710</td>\n",
       "      <td>0.963011</td>\n",
       "      <td>0.009952</td>\n",
       "      <td>0.165268</td>\n",
       "      <td>0.011279</td>\n",
       "      <td>0.001501</td>\n",
       "      <td>0.994804</td>\n",
       "      <td>37.000000</td>\n",
       "      <td>350.000000</td>\n",
       "      <td>12.549020</td>\n",
       "    </tr>\n",
       "    <tr>\n",
       "      <th>max</th>\n",
       "      <td>1.0</td>\n",
       "      <td>0.0</td>\n",
       "      <td>1.0</td>\n",
       "      <td>0.0</td>\n",
       "      <td>100.0</td>\n",
       "      <td>0.999051</td>\n",
       "      <td>0.998976</td>\n",
       "      <td>0.995413</td>\n",
       "      <td>0.997810</td>\n",
       "      <td>0.997882</td>\n",
       "      <td>0.990204</td>\n",
       "      <td>0.999051</td>\n",
       "      <td>143.000000</td>\n",
       "      <td>1408.000000</td>\n",
       "      <td>36.574074</td>\n",
       "    </tr>\n",
       "  </tbody>\n",
       "</table>\n",
       "</div>"
      ],
      "text/plain": [
       "       n_songwriters  n_women   n_men  pct_women  pct_men      sadness  \\\n",
       "count         1353.0   1353.0  1353.0     1353.0   1353.0  1353.000000   \n",
       "mean             1.0      0.0     1.0        0.0    100.0     0.235312   \n",
       "std              0.0      0.0     0.0        0.0      0.0     0.375880   \n",
       "min              1.0      0.0     1.0        0.0    100.0     0.000192   \n",
       "25%              1.0      0.0     1.0        0.0    100.0     0.001886   \n",
       "50%              1.0      0.0     1.0        0.0    100.0     0.012840   \n",
       "75%              1.0      0.0     1.0        0.0    100.0     0.336710   \n",
       "max              1.0      0.0     1.0        0.0    100.0     0.999051   \n",
       "\n",
       "               joy         love        anger         fear     surprise  \\\n",
       "count  1353.000000  1353.000000  1353.000000  1353.000000  1353.000000   \n",
       "mean      0.422002     0.094052     0.170678     0.067598     0.010357   \n",
       "std       0.432744     0.258375     0.301095     0.210468     0.074095   \n",
       "min       0.000193     0.000126     0.000111     0.000099     0.000091   \n",
       "25%       0.005273     0.000711     0.001108     0.000527     0.000292   \n",
       "50%       0.191860     0.002360     0.009692     0.002119     0.000736   \n",
       "75%       0.963011     0.009952     0.165268     0.011279     0.001501   \n",
       "max       0.998976     0.995413     0.997810     0.997882     0.990204   \n",
       "\n",
       "       primary_emotion_score  emotion_word_count  total_words  \\\n",
       "count            1353.000000         1353.000000  1353.000000   \n",
       "mean                0.869377           28.894309   294.048041   \n",
       "std                 0.170218           18.097408   133.664985   \n",
       "min                 0.313143            0.000000     8.000000   \n",
       "25%                 0.773019           16.000000   205.000000   \n",
       "50%                 0.961831           25.000000   268.000000   \n",
       "75%                 0.994804           37.000000   350.000000   \n",
       "max                 0.999051          143.000000  1408.000000   \n",
       "\n",
       "       emotion_words_per_100  \n",
       "count            1353.000000  \n",
       "mean               10.028626  \n",
       "std                 4.651866  \n",
       "min                 0.000000  \n",
       "25%                 6.782334  \n",
       "50%                 9.271523  \n",
       "75%                12.549020  \n",
       "max                36.574074  "
      ]
     },
     "execution_count": 31,
     "metadata": {},
     "output_type": "execute_result"
    }
   ],
   "source": [
    "df_one_songwriter[df_one_songwriter['songwriter_gender'] == 'man'].describe()"
   ]
  },
  {
   "cell_type": "code",
   "execution_count": 32,
   "metadata": {},
   "outputs": [
    {
     "data": {
      "text/html": [
       "<div>\n",
       "<style scoped>\n",
       "    .dataframe tbody tr th:only-of-type {\n",
       "        vertical-align: middle;\n",
       "    }\n",
       "\n",
       "    .dataframe tbody tr th {\n",
       "        vertical-align: top;\n",
       "    }\n",
       "\n",
       "    .dataframe thead th {\n",
       "        text-align: right;\n",
       "    }\n",
       "</style>\n",
       "<table border=\"1\" class=\"dataframe\">\n",
       "  <thead>\n",
       "    <tr style=\"text-align: right;\">\n",
       "      <th></th>\n",
       "      <th>n_songwriters</th>\n",
       "      <th>n_women</th>\n",
       "      <th>n_men</th>\n",
       "      <th>pct_women</th>\n",
       "      <th>pct_men</th>\n",
       "      <th>sadness</th>\n",
       "      <th>joy</th>\n",
       "      <th>love</th>\n",
       "      <th>anger</th>\n",
       "      <th>fear</th>\n",
       "      <th>surprise</th>\n",
       "      <th>primary_emotion_score</th>\n",
       "      <th>emotion_word_count</th>\n",
       "      <th>total_words</th>\n",
       "      <th>emotion_words_per_100</th>\n",
       "    </tr>\n",
       "  </thead>\n",
       "  <tbody>\n",
       "    <tr>\n",
       "      <th>count</th>\n",
       "      <td>205.0</td>\n",
       "      <td>205.0</td>\n",
       "      <td>205.0</td>\n",
       "      <td>205.0</td>\n",
       "      <td>205.0</td>\n",
       "      <td>205.000000</td>\n",
       "      <td>205.000000</td>\n",
       "      <td>205.000000</td>\n",
       "      <td>205.000000</td>\n",
       "      <td>205.000000</td>\n",
       "      <td>205.000000</td>\n",
       "      <td>205.000000</td>\n",
       "      <td>205.000000</td>\n",
       "      <td>205.000000</td>\n",
       "      <td>205.000000</td>\n",
       "    </tr>\n",
       "    <tr>\n",
       "      <th>mean</th>\n",
       "      <td>1.0</td>\n",
       "      <td>1.0</td>\n",
       "      <td>0.0</td>\n",
       "      <td>100.0</td>\n",
       "      <td>0.0</td>\n",
       "      <td>0.247655</td>\n",
       "      <td>0.438540</td>\n",
       "      <td>0.089274</td>\n",
       "      <td>0.137923</td>\n",
       "      <td>0.062394</td>\n",
       "      <td>0.024213</td>\n",
       "      <td>0.873511</td>\n",
       "      <td>31.019512</td>\n",
       "      <td>305.931707</td>\n",
       "      <td>10.109713</td>\n",
       "    </tr>\n",
       "    <tr>\n",
       "      <th>std</th>\n",
       "      <td>0.0</td>\n",
       "      <td>0.0</td>\n",
       "      <td>0.0</td>\n",
       "      <td>0.0</td>\n",
       "      <td>0.0</td>\n",
       "      <td>0.387424</td>\n",
       "      <td>0.431245</td>\n",
       "      <td>0.243722</td>\n",
       "      <td>0.281126</td>\n",
       "      <td>0.196198</td>\n",
       "      <td>0.125853</td>\n",
       "      <td>0.157582</td>\n",
       "      <td>20.429448</td>\n",
       "      <td>125.568102</td>\n",
       "      <td>4.268670</td>\n",
       "    </tr>\n",
       "    <tr>\n",
       "      <th>min</th>\n",
       "      <td>1.0</td>\n",
       "      <td>1.0</td>\n",
       "      <td>0.0</td>\n",
       "      <td>100.0</td>\n",
       "      <td>0.0</td>\n",
       "      <td>0.000256</td>\n",
       "      <td>0.000215</td>\n",
       "      <td>0.000126</td>\n",
       "      <td>0.000119</td>\n",
       "      <td>0.000090</td>\n",
       "      <td>0.000093</td>\n",
       "      <td>0.401216</td>\n",
       "      <td>4.000000</td>\n",
       "      <td>90.000000</td>\n",
       "      <td>1.851852</td>\n",
       "    </tr>\n",
       "    <tr>\n",
       "      <th>25%</th>\n",
       "      <td>1.0</td>\n",
       "      <td>1.0</td>\n",
       "      <td>0.0</td>\n",
       "      <td>100.0</td>\n",
       "      <td>0.0</td>\n",
       "      <td>0.002126</td>\n",
       "      <td>0.008841</td>\n",
       "      <td>0.000943</td>\n",
       "      <td>0.001111</td>\n",
       "      <td>0.000488</td>\n",
       "      <td>0.000258</td>\n",
       "      <td>0.800270</td>\n",
       "      <td>19.000000</td>\n",
       "      <td>226.000000</td>\n",
       "      <td>7.352941</td>\n",
       "    </tr>\n",
       "    <tr>\n",
       "      <th>50%</th>\n",
       "      <td>1.0</td>\n",
       "      <td>1.0</td>\n",
       "      <td>0.0</td>\n",
       "      <td>100.0</td>\n",
       "      <td>0.0</td>\n",
       "      <td>0.015628</td>\n",
       "      <td>0.229362</td>\n",
       "      <td>0.002366</td>\n",
       "      <td>0.008396</td>\n",
       "      <td>0.002318</td>\n",
       "      <td>0.000734</td>\n",
       "      <td>0.960319</td>\n",
       "      <td>27.000000</td>\n",
       "      <td>279.000000</td>\n",
       "      <td>9.448819</td>\n",
       "    </tr>\n",
       "    <tr>\n",
       "      <th>75%</th>\n",
       "      <td>1.0</td>\n",
       "      <td>1.0</td>\n",
       "      <td>0.0</td>\n",
       "      <td>100.0</td>\n",
       "      <td>0.0</td>\n",
       "      <td>0.447083</td>\n",
       "      <td>0.971364</td>\n",
       "      <td>0.011427</td>\n",
       "      <td>0.074719</td>\n",
       "      <td>0.012978</td>\n",
       "      <td>0.001676</td>\n",
       "      <td>0.994537</td>\n",
       "      <td>39.000000</td>\n",
       "      <td>359.000000</td>\n",
       "      <td>11.733333</td>\n",
       "    </tr>\n",
       "    <tr>\n",
       "      <th>max</th>\n",
       "      <td>1.0</td>\n",
       "      <td>1.0</td>\n",
       "      <td>0.0</td>\n",
       "      <td>100.0</td>\n",
       "      <td>0.0</td>\n",
       "      <td>0.999069</td>\n",
       "      <td>0.998953</td>\n",
       "      <td>0.994855</td>\n",
       "      <td>0.997181</td>\n",
       "      <td>0.995492</td>\n",
       "      <td>0.926389</td>\n",
       "      <td>0.999069</td>\n",
       "      <td>184.000000</td>\n",
       "      <td>932.000000</td>\n",
       "      <td>26.025460</td>\n",
       "    </tr>\n",
       "  </tbody>\n",
       "</table>\n",
       "</div>"
      ],
      "text/plain": [
       "       n_songwriters  n_women  n_men  pct_women  pct_men     sadness  \\\n",
       "count          205.0    205.0  205.0      205.0    205.0  205.000000   \n",
       "mean             1.0      1.0    0.0      100.0      0.0    0.247655   \n",
       "std              0.0      0.0    0.0        0.0      0.0    0.387424   \n",
       "min              1.0      1.0    0.0      100.0      0.0    0.000256   \n",
       "25%              1.0      1.0    0.0      100.0      0.0    0.002126   \n",
       "50%              1.0      1.0    0.0      100.0      0.0    0.015628   \n",
       "75%              1.0      1.0    0.0      100.0      0.0    0.447083   \n",
       "max              1.0      1.0    0.0      100.0      0.0    0.999069   \n",
       "\n",
       "              joy        love       anger        fear    surprise  \\\n",
       "count  205.000000  205.000000  205.000000  205.000000  205.000000   \n",
       "mean     0.438540    0.089274    0.137923    0.062394    0.024213   \n",
       "std      0.431245    0.243722    0.281126    0.196198    0.125853   \n",
       "min      0.000215    0.000126    0.000119    0.000090    0.000093   \n",
       "25%      0.008841    0.000943    0.001111    0.000488    0.000258   \n",
       "50%      0.229362    0.002366    0.008396    0.002318    0.000734   \n",
       "75%      0.971364    0.011427    0.074719    0.012978    0.001676   \n",
       "max      0.998953    0.994855    0.997181    0.995492    0.926389   \n",
       "\n",
       "       primary_emotion_score  emotion_word_count  total_words  \\\n",
       "count             205.000000          205.000000   205.000000   \n",
       "mean                0.873511           31.019512   305.931707   \n",
       "std                 0.157582           20.429448   125.568102   \n",
       "min                 0.401216            4.000000    90.000000   \n",
       "25%                 0.800270           19.000000   226.000000   \n",
       "50%                 0.960319           27.000000   279.000000   \n",
       "75%                 0.994537           39.000000   359.000000   \n",
       "max                 0.999069          184.000000   932.000000   \n",
       "\n",
       "       emotion_words_per_100  \n",
       "count             205.000000  \n",
       "mean               10.109713  \n",
       "std                 4.268670  \n",
       "min                 1.851852  \n",
       "25%                 7.352941  \n",
       "50%                 9.448819  \n",
       "75%                11.733333  \n",
       "max                26.025460  "
      ]
     },
     "execution_count": 32,
     "metadata": {},
     "output_type": "execute_result"
    }
   ],
   "source": [
    "df_one_songwriter[df_one_songwriter['songwriter_gender'] == 'woman'].describe()"
   ]
  },
  {
   "cell_type": "code",
   "execution_count": 33,
   "metadata": {},
   "outputs": [
    {
     "name": "stdout",
     "output_type": "stream",
     "text": [
      "135253.5 0.5679015902702162\n"
     ]
    }
   ],
   "source": [
    "stat, p = mannwhitneyu(df_one_songwriter[df_one_songwriter['songwriter_gender'] == 'man']['emotion_words_per_100'], df_one_songwriter[df_one_songwriter['songwriter_gender'] == 'woman']['emotion_words_per_100'], alternative='two-sided')\n",
    "print(stat, p)"
   ]
  },
  {
   "cell_type": "code",
   "execution_count": 34,
   "metadata": {},
   "outputs": [
    {
     "name": "stdout",
     "output_type": "stream",
     "text": [
      "139701.0 0.8653358811717445\n"
     ]
    }
   ],
   "source": [
    "stat, p = mannwhitneyu(df_one_songwriter[df_one_songwriter['songwriter_gender'] == 'man']['primary_emotion_score'], df_one_songwriter[df_one_songwriter['songwriter_gender'] == 'woman']['primary_emotion_score'], alternative='two-sided')\n",
    "print(stat, p)"
   ]
  },
  {
   "cell_type": "code",
   "execution_count": 35,
   "metadata": {},
   "outputs": [
    {
     "name": "stdout",
     "output_type": "stream",
     "text": [
      "146126.0 0.2150091135150678\n"
     ]
    }
   ],
   "source": [
    "stat, p = mannwhitneyu(df_one_songwriter[df_one_songwriter['songwriter_gender'] == 'man']['anger'], df_one_songwriter[df_one_songwriter['songwriter_gender'] == 'woman']['anger'], alternative='two-sided')\n",
    "print(stat, p)"
   ]
  },
  {
   "cell_type": "code",
   "execution_count": 36,
   "metadata": {},
   "outputs": [
    {
     "name": "stdout",
     "output_type": "stream",
     "text": [
      "134381.0 0.47368777402040074\n"
     ]
    }
   ],
   "source": [
    "stat, p = mannwhitneyu(df_one_songwriter[df_one_songwriter['songwriter_gender'] == 'man']['sadness'], df_one_songwriter[df_one_songwriter['songwriter_gender'] == 'woman']['sadness'], alternative='two-sided')\n",
    "print(stat, p)"
   ]
  },
  {
   "cell_type": "code",
   "execution_count": 37,
   "metadata": {},
   "outputs": [
    {
     "name": "stdout",
     "output_type": "stream",
     "text": [
      "134307.0 0.46611227573019154\n"
     ]
    }
   ],
   "source": [
    "stat, p = mannwhitneyu(df_one_songwriter[df_one_songwriter['songwriter_gender'] == 'man']['joy'], df_one_songwriter[df_one_songwriter['songwriter_gender'] == 'woman']['joy'], alternative='two-sided')\n",
    "print(stat, p)"
   ]
  },
  {
   "cell_type": "code",
   "execution_count": 38,
   "metadata": {},
   "outputs": [
    {
     "name": "stdout",
     "output_type": "stream",
     "text": [
      "135378.0 0.5820421363872683\n"
     ]
    }
   ],
   "source": [
    "stat, p = mannwhitneyu(df_one_songwriter[df_one_songwriter['songwriter_gender'] == 'man']['love'], df_one_songwriter[df_one_songwriter['songwriter_gender'] == 'woman']['love'], alternative='two-sided')\n",
    "print(stat, p)"
   ]
  },
  {
   "cell_type": "code",
   "execution_count": 39,
   "metadata": {},
   "outputs": [
    {
     "name": "stdout",
     "output_type": "stream",
     "text": [
      "139253.0 0.9243507863279866\n"
     ]
    }
   ],
   "source": [
    "stat, p = mannwhitneyu(df_one_songwriter[df_one_songwriter['songwriter_gender'] == 'man']['fear'], df_one_songwriter[df_one_songwriter['songwriter_gender'] == 'woman']['fear'], alternative='two-sided')\n",
    "print(stat, p)"
   ]
  },
  {
   "cell_type": "code",
   "execution_count": 40,
   "metadata": {},
   "outputs": [
    {
     "name": "stdout",
     "output_type": "stream",
     "text": [
      "140924.0 0.708908797853331\n"
     ]
    }
   ],
   "source": [
    "stat, p = mannwhitneyu(df_one_songwriter[df_one_songwriter['songwriter_gender'] == 'man']['surprise'], df_one_songwriter[df_one_songwriter['songwriter_gender'] == 'woman']['surprise'], alternative='two-sided')\n",
    "print(stat, p)"
   ]
  },
  {
   "cell_type": "code",
   "execution_count": 41,
   "metadata": {},
   "outputs": [
    {
     "data": {
      "text/html": [
       "<div>\n",
       "<style scoped>\n",
       "    .dataframe tbody tr th:only-of-type {\n",
       "        vertical-align: middle;\n",
       "    }\n",
       "\n",
       "    .dataframe tbody tr th {\n",
       "        vertical-align: top;\n",
       "    }\n",
       "\n",
       "    .dataframe thead th {\n",
       "        text-align: right;\n",
       "    }\n",
       "</style>\n",
       "<table border=\"1\" class=\"dataframe\">\n",
       "  <thead>\n",
       "    <tr style=\"text-align: right;\">\n",
       "      <th></th>\n",
       "      <th>n_songwriters</th>\n",
       "      <th>n_women</th>\n",
       "      <th>n_men</th>\n",
       "      <th>pct_women</th>\n",
       "      <th>pct_men</th>\n",
       "      <th>sadness</th>\n",
       "      <th>joy</th>\n",
       "      <th>love</th>\n",
       "      <th>anger</th>\n",
       "      <th>fear</th>\n",
       "      <th>surprise</th>\n",
       "      <th>primary_emotion_score</th>\n",
       "      <th>emotion_word_count</th>\n",
       "      <th>total_words</th>\n",
       "      <th>emotion_words_per_100</th>\n",
       "    </tr>\n",
       "  </thead>\n",
       "  <tbody>\n",
       "    <tr>\n",
       "      <th>count</th>\n",
       "      <td>1641.000000</td>\n",
       "      <td>1642.000000</td>\n",
       "      <td>1642.000000</td>\n",
       "      <td>1329.000000</td>\n",
       "      <td>1329.000000</td>\n",
       "      <td>1642.000000</td>\n",
       "      <td>1642.000000</td>\n",
       "      <td>1642.000000</td>\n",
       "      <td>1642.000000</td>\n",
       "      <td>1642.000000</td>\n",
       "      <td>1642.000000</td>\n",
       "      <td>1642.000000</td>\n",
       "      <td>1642.000000</td>\n",
       "      <td>1642.000000</td>\n",
       "      <td>1642.000000</td>\n",
       "    </tr>\n",
       "    <tr>\n",
       "      <th>mean</th>\n",
       "      <td>1.828763</td>\n",
       "      <td>0.088916</td>\n",
       "      <td>1.672351</td>\n",
       "      <td>3.839406</td>\n",
       "      <td>94.044040</td>\n",
       "      <td>0.227988</td>\n",
       "      <td>0.432757</td>\n",
       "      <td>0.080708</td>\n",
       "      <td>0.193828</td>\n",
       "      <td>0.055826</td>\n",
       "      <td>0.008894</td>\n",
       "      <td>0.863077</td>\n",
       "      <td>35.123021</td>\n",
       "      <td>358.746041</td>\n",
       "      <td>9.996728</td>\n",
       "    </tr>\n",
       "    <tr>\n",
       "      <th>std</th>\n",
       "      <td>1.903924</td>\n",
       "      <td>0.315184</td>\n",
       "      <td>1.695915</td>\n",
       "      <td>13.954065</td>\n",
       "      <td>16.314662</td>\n",
       "      <td>0.369420</td>\n",
       "      <td>0.430191</td>\n",
       "      <td>0.234277</td>\n",
       "      <td>0.315982</td>\n",
       "      <td>0.189031</td>\n",
       "      <td>0.069839</td>\n",
       "      <td>0.172481</td>\n",
       "      <td>22.503722</td>\n",
       "      <td>179.253056</td>\n",
       "      <td>4.510081</td>\n",
       "    </tr>\n",
       "    <tr>\n",
       "      <th>min</th>\n",
       "      <td>0.000000</td>\n",
       "      <td>0.000000</td>\n",
       "      <td>0.000000</td>\n",
       "      <td>0.000000</td>\n",
       "      <td>0.000000</td>\n",
       "      <td>0.000193</td>\n",
       "      <td>0.000178</td>\n",
       "      <td>0.000131</td>\n",
       "      <td>0.000104</td>\n",
       "      <td>0.000098</td>\n",
       "      <td>0.000087</td>\n",
       "      <td>0.313143</td>\n",
       "      <td>0.000000</td>\n",
       "      <td>8.000000</td>\n",
       "      <td>0.000000</td>\n",
       "    </tr>\n",
       "    <tr>\n",
       "      <th>25%</th>\n",
       "      <td>1.000000</td>\n",
       "      <td>0.000000</td>\n",
       "      <td>1.000000</td>\n",
       "      <td>0.000000</td>\n",
       "      <td>100.000000</td>\n",
       "      <td>0.002193</td>\n",
       "      <td>0.006940</td>\n",
       "      <td>0.000741</td>\n",
       "      <td>0.001325</td>\n",
       "      <td>0.000566</td>\n",
       "      <td>0.000300</td>\n",
       "      <td>0.762475</td>\n",
       "      <td>19.000000</td>\n",
       "      <td>233.000000</td>\n",
       "      <td>6.962813</td>\n",
       "    </tr>\n",
       "    <tr>\n",
       "      <th>50%</th>\n",
       "      <td>1.000000</td>\n",
       "      <td>0.000000</td>\n",
       "      <td>1.000000</td>\n",
       "      <td>0.000000</td>\n",
       "      <td>100.000000</td>\n",
       "      <td>0.015457</td>\n",
       "      <td>0.248257</td>\n",
       "      <td>0.002592</td>\n",
       "      <td>0.013854</td>\n",
       "      <td>0.002394</td>\n",
       "      <td>0.000767</td>\n",
       "      <td>0.955226</td>\n",
       "      <td>30.000000</td>\n",
       "      <td>312.500000</td>\n",
       "      <td>9.350121</td>\n",
       "    </tr>\n",
       "    <tr>\n",
       "      <th>75%</th>\n",
       "      <td>3.000000</td>\n",
       "      <td>0.000000</td>\n",
       "      <td>2.000000</td>\n",
       "      <td>0.000000</td>\n",
       "      <td>100.000000</td>\n",
       "      <td>0.267349</td>\n",
       "      <td>0.960180</td>\n",
       "      <td>0.010363</td>\n",
       "      <td>0.245549</td>\n",
       "      <td>0.010224</td>\n",
       "      <td>0.001583</td>\n",
       "      <td>0.993915</td>\n",
       "      <td>45.000000</td>\n",
       "      <td>433.750000</td>\n",
       "      <td>12.301996</td>\n",
       "    </tr>\n",
       "    <tr>\n",
       "      <th>max</th>\n",
       "      <td>29.000000</td>\n",
       "      <td>2.000000</td>\n",
       "      <td>27.000000</td>\n",
       "      <td>100.000000</td>\n",
       "      <td>100.000000</td>\n",
       "      <td>0.999109</td>\n",
       "      <td>0.998982</td>\n",
       "      <td>0.995011</td>\n",
       "      <td>0.997810</td>\n",
       "      <td>0.997765</td>\n",
       "      <td>0.990204</td>\n",
       "      <td>0.999109</td>\n",
       "      <td>176.000000</td>\n",
       "      <td>1408.000000</td>\n",
       "      <td>42.105263</td>\n",
       "    </tr>\n",
       "  </tbody>\n",
       "</table>\n",
       "</div>"
      ],
      "text/plain": [
       "       n_songwriters      n_women        n_men    pct_women      pct_men  \\\n",
       "count    1641.000000  1642.000000  1642.000000  1329.000000  1329.000000   \n",
       "mean        1.828763     0.088916     1.672351     3.839406    94.044040   \n",
       "std         1.903924     0.315184     1.695915    13.954065    16.314662   \n",
       "min         0.000000     0.000000     0.000000     0.000000     0.000000   \n",
       "25%         1.000000     0.000000     1.000000     0.000000   100.000000   \n",
       "50%         1.000000     0.000000     1.000000     0.000000   100.000000   \n",
       "75%         3.000000     0.000000     2.000000     0.000000   100.000000   \n",
       "max        29.000000     2.000000    27.000000   100.000000   100.000000   \n",
       "\n",
       "           sadness          joy         love        anger         fear  \\\n",
       "count  1642.000000  1642.000000  1642.000000  1642.000000  1642.000000   \n",
       "mean      0.227988     0.432757     0.080708     0.193828     0.055826   \n",
       "std       0.369420     0.430191     0.234277     0.315982     0.189031   \n",
       "min       0.000193     0.000178     0.000131     0.000104     0.000098   \n",
       "25%       0.002193     0.006940     0.000741     0.001325     0.000566   \n",
       "50%       0.015457     0.248257     0.002592     0.013854     0.002394   \n",
       "75%       0.267349     0.960180     0.010363     0.245549     0.010224   \n",
       "max       0.999109     0.998982     0.995011     0.997810     0.997765   \n",
       "\n",
       "          surprise  primary_emotion_score  emotion_word_count  total_words  \\\n",
       "count  1642.000000            1642.000000         1642.000000  1642.000000   \n",
       "mean      0.008894               0.863077           35.123021   358.746041   \n",
       "std       0.069839               0.172481           22.503722   179.253056   \n",
       "min       0.000087               0.313143            0.000000     8.000000   \n",
       "25%       0.000300               0.762475           19.000000   233.000000   \n",
       "50%       0.000767               0.955226           30.000000   312.500000   \n",
       "75%       0.001583               0.993915           45.000000   433.750000   \n",
       "max       0.990204               0.999109          176.000000  1408.000000   \n",
       "\n",
       "       emotion_words_per_100  \n",
       "count            1642.000000  \n",
       "mean                9.996728  \n",
       "std                 4.510081  \n",
       "min                 0.000000  \n",
       "25%                 6.962813  \n",
       "50%                 9.350121  \n",
       "75%                12.301996  \n",
       "max                42.105263  "
      ]
     },
     "execution_count": 41,
     "metadata": {},
     "output_type": "execute_result"
    }
   ],
   "source": [
    "df_one_artist[df_one_artist['artist_gender'] == 'man'].describe()"
   ]
  },
  {
   "cell_type": "code",
   "execution_count": 42,
   "metadata": {},
   "outputs": [
    {
     "data": {
      "text/html": [
       "<div>\n",
       "<style scoped>\n",
       "    .dataframe tbody tr th:only-of-type {\n",
       "        vertical-align: middle;\n",
       "    }\n",
       "\n",
       "    .dataframe tbody tr th {\n",
       "        vertical-align: top;\n",
       "    }\n",
       "\n",
       "    .dataframe thead th {\n",
       "        text-align: right;\n",
       "    }\n",
       "</style>\n",
       "<table border=\"1\" class=\"dataframe\">\n",
       "  <thead>\n",
       "    <tr style=\"text-align: right;\">\n",
       "      <th></th>\n",
       "      <th>n_songwriters</th>\n",
       "      <th>n_women</th>\n",
       "      <th>n_men</th>\n",
       "      <th>pct_women</th>\n",
       "      <th>pct_men</th>\n",
       "      <th>sadness</th>\n",
       "      <th>joy</th>\n",
       "      <th>love</th>\n",
       "      <th>anger</th>\n",
       "      <th>fear</th>\n",
       "      <th>surprise</th>\n",
       "      <th>primary_emotion_score</th>\n",
       "      <th>emotion_word_count</th>\n",
       "      <th>total_words</th>\n",
       "      <th>emotion_words_per_100</th>\n",
       "    </tr>\n",
       "  </thead>\n",
       "  <tbody>\n",
       "    <tr>\n",
       "      <th>count</th>\n",
       "      <td>979.000000</td>\n",
       "      <td>980.000000</td>\n",
       "      <td>980.000000</td>\n",
       "      <td>862.000000</td>\n",
       "      <td>862.000000</td>\n",
       "      <td>980.000000</td>\n",
       "      <td>980.000000</td>\n",
       "      <td>980.000000</td>\n",
       "      <td>980.000000</td>\n",
       "      <td>980.000000</td>\n",
       "      <td>980.000000</td>\n",
       "      <td>980.000000</td>\n",
       "      <td>980.000000</td>\n",
       "      <td>980.000000</td>\n",
       "      <td>980.000000</td>\n",
       "    </tr>\n",
       "    <tr>\n",
       "      <th>mean</th>\n",
       "      <td>2.219612</td>\n",
       "      <td>0.726531</td>\n",
       "      <td>1.421429</td>\n",
       "      <td>36.919802</td>\n",
       "      <td>61.128250</td>\n",
       "      <td>0.252019</td>\n",
       "      <td>0.435069</td>\n",
       "      <td>0.093920</td>\n",
       "      <td>0.150464</td>\n",
       "      <td>0.057274</td>\n",
       "      <td>0.011254</td>\n",
       "      <td>0.878259</td>\n",
       "      <td>37.227551</td>\n",
       "      <td>360.150000</td>\n",
       "      <td>10.413639</td>\n",
       "    </tr>\n",
       "    <tr>\n",
       "      <th>std</th>\n",
       "      <td>1.807670</td>\n",
       "      <td>0.729301</td>\n",
       "      <td>1.400770</td>\n",
       "      <td>34.797560</td>\n",
       "      <td>35.239774</td>\n",
       "      <td>0.388635</td>\n",
       "      <td>0.437031</td>\n",
       "      <td>0.255229</td>\n",
       "      <td>0.292051</td>\n",
       "      <td>0.193737</td>\n",
       "      <td>0.080931</td>\n",
       "      <td>0.166423</td>\n",
       "      <td>22.964427</td>\n",
       "      <td>138.441371</td>\n",
       "      <td>4.799592</td>\n",
       "    </tr>\n",
       "    <tr>\n",
       "      <th>min</th>\n",
       "      <td>0.000000</td>\n",
       "      <td>0.000000</td>\n",
       "      <td>0.000000</td>\n",
       "      <td>0.000000</td>\n",
       "      <td>0.000000</td>\n",
       "      <td>0.000199</td>\n",
       "      <td>0.000153</td>\n",
       "      <td>0.000126</td>\n",
       "      <td>0.000119</td>\n",
       "      <td>0.000090</td>\n",
       "      <td>0.000069</td>\n",
       "      <td>0.292230</td>\n",
       "      <td>3.000000</td>\n",
       "      <td>90.000000</td>\n",
       "      <td>1.398601</td>\n",
       "    </tr>\n",
       "    <tr>\n",
       "      <th>25%</th>\n",
       "      <td>1.000000</td>\n",
       "      <td>0.000000</td>\n",
       "      <td>0.000000</td>\n",
       "      <td>0.000000</td>\n",
       "      <td>50.000000</td>\n",
       "      <td>0.001808</td>\n",
       "      <td>0.005203</td>\n",
       "      <td>0.000698</td>\n",
       "      <td>0.000992</td>\n",
       "      <td>0.000480</td>\n",
       "      <td>0.000254</td>\n",
       "      <td>0.809156</td>\n",
       "      <td>22.000000</td>\n",
       "      <td>265.000000</td>\n",
       "      <td>7.137329</td>\n",
       "    </tr>\n",
       "    <tr>\n",
       "      <th>50%</th>\n",
       "      <td>2.000000</td>\n",
       "      <td>1.000000</td>\n",
       "      <td>1.000000</td>\n",
       "      <td>33.333333</td>\n",
       "      <td>66.666667</td>\n",
       "      <td>0.011586</td>\n",
       "      <td>0.221074</td>\n",
       "      <td>0.002363</td>\n",
       "      <td>0.008095</td>\n",
       "      <td>0.001633</td>\n",
       "      <td>0.000659</td>\n",
       "      <td>0.973619</td>\n",
       "      <td>32.000000</td>\n",
       "      <td>337.500000</td>\n",
       "      <td>9.707889</td>\n",
       "    </tr>\n",
       "    <tr>\n",
       "      <th>75%</th>\n",
       "      <td>3.000000</td>\n",
       "      <td>1.000000</td>\n",
       "      <td>2.000000</td>\n",
       "      <td>50.000000</td>\n",
       "      <td>100.000000</td>\n",
       "      <td>0.439640</td>\n",
       "      <td>0.973925</td>\n",
       "      <td>0.009984</td>\n",
       "      <td>0.088204</td>\n",
       "      <td>0.008342</td>\n",
       "      <td>0.001475</td>\n",
       "      <td>0.995203</td>\n",
       "      <td>46.000000</td>\n",
       "      <td>436.000000</td>\n",
       "      <td>12.850851</td>\n",
       "    </tr>\n",
       "    <tr>\n",
       "      <th>max</th>\n",
       "      <td>17.000000</td>\n",
       "      <td>5.000000</td>\n",
       "      <td>14.000000</td>\n",
       "      <td>100.000000</td>\n",
       "      <td>100.000000</td>\n",
       "      <td>0.999069</td>\n",
       "      <td>0.998953</td>\n",
       "      <td>0.995726</td>\n",
       "      <td>0.997860</td>\n",
       "      <td>0.997882</td>\n",
       "      <td>0.990895</td>\n",
       "      <td>0.999069</td>\n",
       "      <td>181.000000</td>\n",
       "      <td>932.000000</td>\n",
       "      <td>34.375000</td>\n",
       "    </tr>\n",
       "  </tbody>\n",
       "</table>\n",
       "</div>"
      ],
      "text/plain": [
       "       n_songwriters     n_women       n_men   pct_women     pct_men  \\\n",
       "count     979.000000  980.000000  980.000000  862.000000  862.000000   \n",
       "mean        2.219612    0.726531    1.421429   36.919802   61.128250   \n",
       "std         1.807670    0.729301    1.400770   34.797560   35.239774   \n",
       "min         0.000000    0.000000    0.000000    0.000000    0.000000   \n",
       "25%         1.000000    0.000000    0.000000    0.000000   50.000000   \n",
       "50%         2.000000    1.000000    1.000000   33.333333   66.666667   \n",
       "75%         3.000000    1.000000    2.000000   50.000000  100.000000   \n",
       "max        17.000000    5.000000   14.000000  100.000000  100.000000   \n",
       "\n",
       "          sadness         joy        love       anger        fear    surprise  \\\n",
       "count  980.000000  980.000000  980.000000  980.000000  980.000000  980.000000   \n",
       "mean     0.252019    0.435069    0.093920    0.150464    0.057274    0.011254   \n",
       "std      0.388635    0.437031    0.255229    0.292051    0.193737    0.080931   \n",
       "min      0.000199    0.000153    0.000126    0.000119    0.000090    0.000069   \n",
       "25%      0.001808    0.005203    0.000698    0.000992    0.000480    0.000254   \n",
       "50%      0.011586    0.221074    0.002363    0.008095    0.001633    0.000659   \n",
       "75%      0.439640    0.973925    0.009984    0.088204    0.008342    0.001475   \n",
       "max      0.999069    0.998953    0.995726    0.997860    0.997882    0.990895   \n",
       "\n",
       "       primary_emotion_score  emotion_word_count  total_words  \\\n",
       "count             980.000000          980.000000   980.000000   \n",
       "mean                0.878259           37.227551   360.150000   \n",
       "std                 0.166423           22.964427   138.441371   \n",
       "min                 0.292230            3.000000    90.000000   \n",
       "25%                 0.809156           22.000000   265.000000   \n",
       "50%                 0.973619           32.000000   337.500000   \n",
       "75%                 0.995203           46.000000   436.000000   \n",
       "max                 0.999069          181.000000   932.000000   \n",
       "\n",
       "       emotion_words_per_100  \n",
       "count             980.000000  \n",
       "mean               10.413639  \n",
       "std                 4.799592  \n",
       "min                 1.398601  \n",
       "25%                 7.137329  \n",
       "50%                 9.707889  \n",
       "75%                12.850851  \n",
       "max                34.375000  "
      ]
     },
     "execution_count": 42,
     "metadata": {},
     "output_type": "execute_result"
    }
   ],
   "source": [
    "df_one_artist[df_one_artist['artist_gender'] == 'woman'].describe()"
   ]
  },
  {
   "cell_type": "code",
   "execution_count": 43,
   "metadata": {},
   "outputs": [
    {
     "name": "stdout",
     "output_type": "stream",
     "text": [
      "768974.5 0.057634636242483356\n"
     ]
    }
   ],
   "source": [
    "stat, p = mannwhitneyu(df_one_artist[df_one_artist['artist_gender'] == 'man']['emotion_words_per_100'], df_one_artist[df_one_artist['artist_gender'] == 'woman']['emotion_words_per_100'], alternative='two-sided')\n",
    "print(stat, p)"
   ]
  },
  {
   "cell_type": "code",
   "execution_count": 44,
   "metadata": {},
   "outputs": [
    {
     "name": "stdout",
     "output_type": "stream",
     "text": [
      "752973.0 0.005929232627145364\n"
     ]
    }
   ],
   "source": [
    "stat, p = mannwhitneyu(df_one_artist[df_one_artist['artist_gender'] == 'man']['primary_emotion_score'], df_one_artist[df_one_artist['artist_gender'] == 'woman']['primary_emotion_score'], alternative='two-sided')\n",
    "print(stat, p)"
   ]
  },
  {
   "cell_type": "code",
   "execution_count": 45,
   "metadata": {},
   "outputs": [
    {
     "name": "stdout",
     "output_type": "stream",
     "text": [
      "879195.0 6.936280732374187e-05\n"
     ]
    }
   ],
   "source": [
    "stat, p = mannwhitneyu(df_one_artist[df_one_artist['artist_gender'] == 'man']['anger'], df_one_artist[df_one_artist['artist_gender'] == 'woman']['anger'], alternative='two-sided')\n",
    "print(stat, p)"
   ]
  },
  {
   "cell_type": "code",
   "execution_count": 46,
   "metadata": {},
   "outputs": [
    {
     "name": "stdout",
     "output_type": "stream",
     "text": [
      "820081.0 0.408526222719949\n"
     ]
    }
   ],
   "source": [
    "stat, p = mannwhitneyu(df_one_artist[df_one_artist['artist_gender'] == 'man']['love'], df_one_artist[df_one_artist['artist_gender'] == 'woman']['love'], alternative='two-sided')\n",
    "print(stat, p)"
   ]
  },
  {
   "cell_type": "code",
   "execution_count": 47,
   "metadata": {},
   "outputs": [
    {
     "name": "stdout",
     "output_type": "stream",
     "text": [
      "815979.5 0.5433220583595451\n"
     ]
    }
   ],
   "source": [
    "stat, p = mannwhitneyu(df_one_artist[df_one_artist['artist_gender'] == 'man']['sadness'], df_one_artist[df_one_artist['artist_gender'] == 'woman']['sadness'], alternative='two-sided')\n",
    "print(stat, p)"
   ]
  },
  {
   "cell_type": "code",
   "execution_count": 48,
   "metadata": {},
   "outputs": [
    {
     "name": "stdout",
     "output_type": "stream",
     "text": [
      "807452.5 0.8782913045959813\n"
     ]
    }
   ],
   "source": [
    "stat, p = mannwhitneyu(df_one_artist[df_one_artist['artist_gender'] == 'man']['joy'], df_one_artist[df_one_artist['artist_gender'] == 'woman']['joy'], alternative='two-sided')\n",
    "print(stat, p)"
   ]
  },
  {
   "cell_type": "code",
   "execution_count": 49,
   "metadata": {},
   "outputs": [
    {
     "name": "stdout",
     "output_type": "stream",
     "text": [
      "854383.0 0.007919566785553427\n"
     ]
    }
   ],
   "source": [
    "stat, p = mannwhitneyu(df_one_artist[df_one_artist['artist_gender'] == 'man']['fear'], df_one_artist[df_one_artist['artist_gender'] == 'woman']['fear'], alternative='two-sided')\n",
    "print(stat, p)"
   ]
  },
  {
   "cell_type": "code",
   "execution_count": 50,
   "metadata": {},
   "outputs": [
    {
     "name": "stdout",
     "output_type": "stream",
     "text": [
      "848844.5 0.018266766695743803\n"
     ]
    }
   ],
   "source": [
    "stat, p = mannwhitneyu(df_one_artist[df_one_artist['artist_gender'] == 'man']['surprise'], df_one_artist[df_one_artist['artist_gender'] == 'woman']['surprise'], alternative='two-sided')\n",
    "print(stat, p)"
   ]
  },
  {
   "cell_type": "code",
   "execution_count": 51,
   "metadata": {},
   "outputs": [
    {
     "data": {
      "image/png": "[encoded data removed]",
      "text/plain": [
       "<Figure size 640x480 with 1 Axes>"
      ]
     },
     "metadata": {},
     "output_type": "display_data"
    }
   ],
   "source": [
    "# visualize distributions with significant differences\n",
    "# primary emotion score\n",
    "fig, ax = plt.subplots()\n",
    "vp_man = ax.violinplot(df_one_artist[df_one_artist['artist_gender']=='man']['primary_emotion_score'], positions=[1], vert=False, widths=0.7)\n",
    "vp_woman = ax.violinplot(df_one_artist[df_one_artist['artist_gender']=='woman']['primary_emotion_score'], positions=[1], vert=False, widths=0.7)\n",
    "\n",
    "\n",
    "for pc in vp_man['bodies']:\n",
    "    pc.set_facecolor('red')\n",
    "    pc.set_alpha(0.3)\n",
    "    pc.set_edgecolor('red')\n",
    "\n",
    "for pc in vp_woman['bodies']:\n",
    "    pc.set_facecolor('blue')\n",
    "    pc.set_alpha(0.3)\n",
    "    pc.set_edgecolor('blue')\n",
    "\n",
    "legend_patches = [\n",
    "    Patch(facecolor='red', alpha=0.3, label='Man'),\n",
    "    Patch(facecolor='blue', alpha=0.3, label='Woman')\n",
    "]\n",
    "ax.legend(handles=legend_patches, title='Artist Gender')\n",
    "\n",
    "ax.set_xlabel('Primary Emotion Confidence Score')\n",
    "ax.set_title('Primary Emotion Confidence Score by Artist Gender')\n",
    "plt.yticks([])           \n",
    "plt.tick_params(axis='y', length=0)  \n",
    "plt.tight_layout()\n",
    "plt.show()"
   ]
  },
  {
   "cell_type": "code",
   "execution_count": 52,
   "metadata": {},
   "outputs": [
    {
     "data": {
      "image/png": "[encoded data removed]",
      "text/plain": [
       "<Figure size 640x480 with 1 Axes>"
      ]
     },
     "metadata": {},
     "output_type": "display_data"
    }
   ],
   "source": [
    "# emotion word rate\n",
    "fig, ax = plt.subplots()\n",
    "vp_man = ax.violinplot(df_one_artist[df_one_artist['artist_gender']=='man']['emotion_words_per_100'], positions=[1], vert=False, widths=0.7)\n",
    "vp_woman = ax.violinplot(df_one_artist[df_one_artist['artist_gender']=='woman']['emotion_words_per_100'], positions=[1], vert=False,widths=0.7)\n",
    "\n",
    "\n",
    "for pc in vp_man['bodies']:\n",
    "    pc.set_facecolor('red')\n",
    "    pc.set_alpha(0.3)\n",
    "    pc.set_edgecolor('red')\n",
    "\n",
    "for pc in vp_woman['bodies']:\n",
    "    pc.set_facecolor('blue')\n",
    "    pc.set_alpha(0.3)\n",
    "    pc.set_edgecolor('blue')\n",
    "\n",
    "legend_patches = [\n",
    "    Patch(facecolor='red', alpha=0.3, label='Man'),\n",
    "    Patch(facecolor='blue', alpha=0.3, label='Woman')\n",
    "]\n",
    "ax.legend(handles=legend_patches, title='Artist Gender')\n",
    "\n",
    "ax.set_xlabel('Emotion-Laden Word Rate (Per 100 Words)')\n",
    "ax.set_title('Rate of Emotion-Laden Words by Artist Gender')\n",
    "plt.yticks([])           \n",
    "plt.tick_params(axis='y', length=0)  \n",
    "plt.tight_layout()\n",
    "plt.show()"
   ]
  },
  {
   "cell_type": "code",
   "execution_count": 53,
   "metadata": {},
   "outputs": [
    {
     "data": {
      "image/png": "[encoded data removed]",
      "text/plain": [
       "<Figure size 640x480 with 1 Axes>"
      ]
     },
     "metadata": {},
     "output_type": "display_data"
    }
   ],
   "source": [
    "# anger confidence score\n",
    "fig, ax = plt.subplots()\n",
    "vp_man = ax.violinplot(df_one_artist[df_one_artist['artist_gender']=='man']['anger'], positions=[1], vert=False, widths=0.7)\n",
    "vp_woman = ax.violinplot(df_one_artist[df_one_artist['artist_gender']=='woman']['anger'], positions=[1], vert=False, widths=0.7)\n",
    "\n",
    "\n",
    "for pc in vp_man['bodies']:\n",
    "    pc.set_facecolor('red')\n",
    "    pc.set_alpha(0.3)\n",
    "    pc.set_edgecolor('red')\n",
    "\n",
    "for pc in vp_woman['bodies']:\n",
    "    pc.set_facecolor('blue')\n",
    "    pc.set_alpha(0.3)\n",
    "    pc.set_edgecolor('blue')\n",
    "\n",
    "legend_patches = [\n",
    "    Patch(facecolor='red', alpha=0.3, label='Man'),\n",
    "    Patch(facecolor='blue', alpha=0.3, label='Woman')\n",
    "]\n",
    "ax.legend(handles=legend_patches, title='Artist Gender')\n",
    "\n",
    "ax.set_xlabel('Anger Confidence Score')\n",
    "ax.set_title('Anger Confidence Score by Artist Gender')\n",
    "plt.yticks([])           \n",
    "plt.tick_params(axis='y', length=0)  \n",
    "plt.tight_layout()\n",
    "plt.show()"
   ]
  },
  {
   "cell_type": "code",
   "execution_count": 54,
   "metadata": {},
   "outputs": [
    {
     "data": {
      "image/png": "[encoded data removed]",
      "text/plain": [
       "<Figure size 640x480 with 1 Axes>"
      ]
     },
     "metadata": {},
     "output_type": "display_data"
    }
   ],
   "source": [
    "# fear confidence score\n",
    "fig, ax = plt.subplots()\n",
    "vp_man = ax.violinplot(df_one_artist[df_one_artist['artist_gender']=='man']['fear'], positions=[1], vert=False, widths=0.7)\n",
    "vp_woman = ax.violinplot(df_one_artist[df_one_artist['artist_gender']=='woman']['fear'], positions=[1], vert=False, widths=0.7)\n",
    "\n",
    "\n",
    "for pc in vp_man['bodies']:\n",
    "    pc.set_facecolor('red')\n",
    "    pc.set_alpha(0.3)\n",
    "    pc.set_edgecolor('red')\n",
    "\n",
    "for pc in vp_woman['bodies']:\n",
    "    pc.set_facecolor('blue')\n",
    "    pc.set_alpha(0.3)\n",
    "    pc.set_edgecolor('blue')\n",
    "\n",
    "legend_patches = [\n",
    "    Patch(facecolor='red', alpha=0.3, label='Man'),\n",
    "    Patch(facecolor='blue', alpha=0.3, label='Woman')\n",
    "]\n",
    "ax.legend(handles=legend_patches, title='Artist Gender')\n",
    "\n",
    "ax.set_xlabel('Fear Confidence Score')\n",
    "ax.set_title('Fear Confidence Score by Artist Gender')\n",
    "plt.yticks([])           \n",
    "plt.tick_params(axis='y', length=0)  \n",
    "plt.tight_layout()\n",
    "plt.show()"
   ]
  },
  {
   "cell_type": "code",
   "execution_count": 55,
   "metadata": {},
   "outputs": [
    {
     "data": {
      "image/png": "[encoded data removed]",
      "text/plain": [
       "<Figure size 640x480 with 1 Axes>"
      ]
     },
     "metadata": {},
     "output_type": "display_data"
    }
   ],
   "source": [
    "# surprise confidence score\n",
    "fig, ax = plt.subplots()\n",
    "vp_man = ax.violinplot(df_one_artist[df_one_artist['artist_gender']=='man']['surprise'], positions=[1], vert=False, widths=0.7)\n",
    "vp_woman = ax.violinplot(df_one_artist[df_one_artist['artist_gender']=='woman']['surprise'], positions=[1], vert=False, widths=0.7)\n",
    "\n",
    "\n",
    "for pc in vp_man['bodies']:\n",
    "    pc.set_facecolor('red')\n",
    "    pc.set_alpha(0.3)\n",
    "    pc.set_edgecolor('red')\n",
    "\n",
    "for pc in vp_woman['bodies']:\n",
    "    pc.set_facecolor('blue')\n",
    "    pc.set_alpha(0.3)\n",
    "    pc.set_edgecolor('blue')\n",
    "\n",
    "legend_patches = [\n",
    "    Patch(facecolor='red', alpha=0.3, label='Man'),\n",
    "    Patch(facecolor='blue', alpha=0.3, label='Woman')\n",
    "]\n",
    "ax.legend(handles=legend_patches, title='Artist Gender')\n",
    "\n",
    "ax.set_xlabel('Surprise Confidence Score')\n",
    "ax.set_title('Surprise Confidence Score by Artist Gender')\n",
    "plt.yticks([])           \n",
    "plt.tick_params(axis='y', length=0)  \n",
    "plt.tight_layout()\n",
    "plt.show()"
   ]
  },
  {
   "cell_type": "markdown",
   "metadata": {},
   "source": [
    "## Two Categorical Variables"
   ]
  },
  {
   "cell_type": "code",
   "execution_count": 56,
   "metadata": {},
   "outputs": [
    {
     "name": "stdout",
     "output_type": "stream",
     "text": [
      "primary_emotion    anger  fear  joy  love  sadness  surprise\n",
      "songwriter_gender                                           \n",
      "man                  225    86  594   122      317         9\n",
      "woman                 29    10   90    18       52         6\n"
     ]
    }
   ],
   "source": [
    "# build contingency table\n",
    "contingency_songwriter_gender = pd.crosstab([df_one_songwriter['songwriter_gender']], df_one_songwriter['primary_emotion'])\n",
    "print(contingency_songwriter_gender)"
   ]
  },
  {
   "cell_type": "code",
   "execution_count": 57,
   "metadata": {},
   "outputs": [
    {
     "name": "stdout",
     "output_type": "stream",
     "text": [
      "\n",
      "Chi-square statistic: 11.055879535752783\n",
      "Degrees of freedom: 5\n",
      "P-value: 0.050283244517936164\n",
      "Expected frequencies:\n",
      " [[220.57894737  83.36842105 594.         121.57894737 320.44736842\n",
      "   13.02631579]\n",
      " [ 33.42105263  12.63157895  90.          18.42105263  48.55263158\n",
      "    1.97368421]]\n"
     ]
    }
   ],
   "source": [
    "# run chi-square test\n",
    "chi2, p, dof, expected = chi2_contingency(contingency_songwriter_gender)\n",
    "\n",
    "print(\"\\nChi-square statistic:\", chi2)\n",
    "print(\"Degrees of freedom:\", dof)\n",
    "print(\"P-value:\", p)\n",
    "print(\"Expected frequencies:\\n\", expected)"
   ]
  },
  {
   "cell_type": "code",
   "execution_count": 58,
   "metadata": {},
   "outputs": [
    {
     "name": "stdout",
     "output_type": "stream",
     "text": [
      "Standardized Residuals:\n",
      " primary_emotion       anger      fear  joy      love   sadness  surprise\n",
      "songwriter_gender                                                       \n",
      "man                0.297676  0.288214  0.0  0.038186 -0.192579 -1.115571\n",
      "woman             -0.764743 -0.740436  0.0 -0.098102  0.494745  2.865953\n"
     ]
    }
   ],
   "source": [
    "# convert to df\n",
    "expected_df_songwriter = pd.DataFrame(expected, index=contingency_songwriter_gender.index, columns=contingency_songwriter_gender.columns)\n",
    "\n",
    "# calculate standardized residuals\n",
    "residuals_songwriter = (contingency_songwriter_gender - expected_df_songwriter) / np.sqrt(expected_df_songwriter)\n",
    "print(\"Standardized Residuals:\\n\", residuals_songwriter)"
   ]
  },
  {
   "cell_type": "code",
   "execution_count": 59,
   "metadata": {},
   "outputs": [
    {
     "data": {
      "image/png": "[encoded data removed]",
      "text/plain": [
       "<Figure size 640x480 with 2 Axes>"
      ]
     },
     "metadata": {},
     "output_type": "display_data"
    }
   ],
   "source": [
    "# plot heatmap\n",
    "sns.heatmap(residuals_songwriter, annot=True, fmt=\".2f\", cmap=\"RdBu\", center=0)\n",
    "plt.title('Standardized Residuals: Songwriter Gender & Primary Emotion')\n",
    "plt.xlabel('Primary Emotion')\n",
    "plt.ylabel('Songwriter Gender')\n",
    "plt.show()"
   ]
  },
  {
   "cell_type": "code",
   "execution_count": 60,
   "metadata": {},
   "outputs": [
    {
     "name": "stdout",
     "output_type": "stream",
     "text": [
      "primary_emotion  anger  fear  joy  love  sadness  surprise\n",
      "artist_gender                                             \n",
      "man                316    83  740   126      367        10\n",
      "non-binary           5     6    7     0        8         0\n",
      "woman              149    50  431    88      250        12\n"
     ]
    }
   ],
   "source": [
    "# build contingency table\n",
    "contingency_artist_gender = pd.crosstab([df_one_artist['artist_gender']], df_one_artist['primary_emotion'])\n",
    "print(contingency_artist_gender)"
   ]
  },
  {
   "cell_type": "code",
   "execution_count": 61,
   "metadata": {},
   "outputs": [
    {
     "name": "stdout",
     "output_type": "stream",
     "text": [
      "primary_emotion  anger  fear  joy  love  sadness  surprise\n",
      "artist_gender                                             \n",
      "man                316    83  740   126      367        10\n",
      "woman              149    50  431    88      250        12\n"
     ]
    }
   ],
   "source": [
    "# remove non-binary category due to multiple counts lower than 5\n",
    "contingency_artist_gender = pd.crosstab([df_one_artist[df_one_artist['artist_gender'] != 'non-binary']['artist_gender']], df_one_artist[df_one_artist['artist_gender'] != 'non-binary']['primary_emotion'])\n",
    "print(contingency_artist_gender)"
   ]
  },
  {
   "cell_type": "code",
   "execution_count": 62,
   "metadata": {},
   "outputs": [
    {
     "name": "stdout",
     "output_type": "stream",
     "text": [
      "\n",
      "Chi-square statistic: 12.47211254911163\n",
      "Degrees of freedom: 5\n",
      "P-value: 0.028861194847748798\n",
      "Expected frequencies:\n",
      " [[291.201373    83.28985507 733.32646834 134.01525553 386.38977879\n",
      "   13.77726926]\n",
      " [173.798627    49.71014493 437.67353166  79.98474447 230.61022121\n",
      "    8.22273074]]\n"
     ]
    }
   ],
   "source": [
    "# run chi-square test\n",
    "chi2, p, dof, expected = chi2_contingency(contingency_artist_gender)\n",
    "\n",
    "print(\"\\nChi-square statistic:\", chi2)\n",
    "print(\"Degrees of freedom:\", dof)\n",
    "print(\"P-value:\", p)\n",
    "print(\"Expected frequencies:\\n\", expected)"
   ]
  },
  {
   "cell_type": "code",
   "execution_count": 63,
   "metadata": {},
   "outputs": [
    {
     "name": "stdout",
     "output_type": "stream",
     "text": [
      "Standardized Residuals:\n",
      " primary_emotion     anger      fear       joy      love   sadness  surprise\n",
      "artist_gender                                                              \n",
      "man              1.453219 -0.031760  0.246438 -0.692373 -0.986416 -1.017645\n",
      "woman           -1.881068  0.041111 -0.318993  0.896218  1.276831  1.317255\n"
     ]
    }
   ],
   "source": [
    "# convert to df\n",
    "expected_df_artist = pd.DataFrame(expected, index=contingency_artist_gender.index, columns=contingency_artist_gender.columns)\n",
    "\n",
    "# calculate standardized residuals\n",
    "residuals_artist = (contingency_artist_gender - expected_df_artist) / np.sqrt(expected_df_artist)\n",
    "print(\"Standardized Residuals:\\n\", residuals_artist)"
   ]
  },
  {
   "cell_type": "code",
   "execution_count": 64,
   "metadata": {},
   "outputs": [
    {
     "data": {
      "image/png": "[encoded data removed]",
      "text/plain": [
       "<Figure size 640x480 with 2 Axes>"
      ]
     },
     "metadata": {},
     "output_type": "display_data"
    }
   ],
   "source": [
    "# plot heatmap\n",
    "sns.heatmap(residuals_artist, annot=True, fmt=\".2f\", cmap=\"RdBu\", center=0)\n",
    "plt.title('Standardized Residuals: Artist Gender & Primary Emotion')\n",
    "plt.xlabel('Primary Emotion')\n",
    "plt.ylabel('Artist Gender')\n",
    "plt.show()"
   ]
  },
  {
   "cell_type": "code",
   "execution_count": 65,
   "metadata": {},
   "outputs": [
    {
     "name": "stdout",
     "output_type": "stream",
     "text": [
      "primary_emotion               anger  fear  joy  love  sadness  surprise\n",
      "artist_writer_combo                                                    \n",
      "female artist, female writer     14     4   60    11       36         3\n",
      "female artist, male writer       18    13   57    16       35         1\n",
      "male artist, female writer        2     0    7     2        1         0\n",
      "male artist, male writer        107    34  263    45      123         6\n"
     ]
    }
   ],
   "source": [
    "# build contingency table\n",
    "contingency_combo = pd.crosstab([df_one_artist_one_writer['artist_writer_combo']], df_one_artist_one_writer['primary_emotion'])\n",
    "print(contingency_combo)"
   ]
  },
  {
   "cell_type": "code",
   "execution_count": 66,
   "metadata": {},
   "outputs": [],
   "source": [
    "# remove levels with multiple counts lower than 5\n",
    "df_one_artist_one_writer_filtered = df_one_artist_one_writer[(df_one_artist_one_writer['artist_writer_combo'] != 'male artist, female writer') & (df_one_artist_one_writer['primary_emotion'] != 'fear') & (df_one_artist_one_writer['primary_emotion'] != 'surprise')]"
   ]
  },
  {
   "cell_type": "code",
   "execution_count": 67,
   "metadata": {},
   "outputs": [
    {
     "name": "stdout",
     "output_type": "stream",
     "text": [
      "primary_emotion               anger  joy  love  sadness\n",
      "artist_writer_combo                                    \n",
      "female artist, female writer     14   60    11       36\n",
      "female artist, male writer       18   57    16       35\n",
      "male artist, male writer        107  263    45      123\n"
     ]
    }
   ],
   "source": [
    "# build contingency table\n",
    "contingency_combo = pd.crosstab([df_one_artist_one_writer_filtered['artist_writer_combo']], df_one_artist_one_writer_filtered['primary_emotion'])\n",
    "print(contingency_combo)"
   ]
  },
  {
   "cell_type": "code",
   "execution_count": 68,
   "metadata": {},
   "outputs": [
    {
     "name": "stdout",
     "output_type": "stream",
     "text": [
      "\n",
      "Chi-square statistic: 9.733311958253747\n",
      "Degrees of freedom: 6\n",
      "P-value: 0.13634145938339598\n",
      "Expected frequencies:\n",
      " [[ 21.42547771  58.57324841  11.09808917  29.90318471]\n",
      " [ 22.31082803  60.99363057  11.5566879   31.1388535 ]\n",
      " [ 95.26369427 260.43312102  49.34522293 132.95796178]]\n"
     ]
    }
   ],
   "source": [
    "# run chi-square test\n",
    "chi2, p, dof, expected = chi2_contingency(contingency_combo)\n",
    "\n",
    "print(\"\\nChi-square statistic:\", chi2)\n",
    "print(\"Degrees of freedom:\", dof)\n",
    "print(\"P-value:\", p)\n",
    "print(\"Expected frequencies:\\n\", expected)"
   ]
  },
  {
   "cell_type": "code",
   "execution_count": 69,
   "metadata": {},
   "outputs": [
    {
     "name": "stdout",
     "output_type": "stream",
     "text": [
      "Standardized Residuals:\n",
      " primary_emotion                  anger       joy      love   sadness\n",
      "artist_writer_combo                                                 \n",
      "female artist, female writer -1.604202  0.186423 -0.029444  1.114922\n",
      "female artist, male writer   -0.912647 -0.511359  1.307044  0.691934\n",
      "male artist, male writer      1.202452  0.159059 -0.618571 -0.863601\n"
     ]
    }
   ],
   "source": [
    "# convert to df\n",
    "expected_df_combo = pd.DataFrame(expected, index=contingency_combo.index, columns=contingency_combo.columns)\n",
    "\n",
    "# calculate standardized residuals\n",
    "residuals_combo = (contingency_combo - expected_df_combo) / np.sqrt(expected_df_combo)\n",
    "print(\"Standardized Residuals:\\n\", residuals_combo)"
   ]
  },
  {
   "cell_type": "code",
   "execution_count": 70,
   "metadata": {},
   "outputs": [
    {
     "data": {
      "image/png": "[encoded data removed]",
      "text/plain": [
       "<Figure size 640x480 with 2 Axes>"
      ]
     },
     "metadata": {},
     "output_type": "display_data"
    }
   ],
   "source": [
    "# plot heatmap\n",
    "sns.heatmap(residuals_combo, annot=True, fmt=\".2f\", cmap=\"RdBu\", center=0)\n",
    "plt.title('Standardized Residuals: Songwriter/ Artist Combo & Primary Emotion')\n",
    "plt.xlabel('Primary Emotion')\n",
    "plt.ylabel('Songwriter/ Artist Combo')\n",
    "plt.show()"
   ]
  }
 ],
 "metadata": {
  "kernelspec": {
   "display_name": "capstone-env",
   "language": "python",
   "name": "python3"
  },
  "language_info": {
   "codemirror_mode": {
    "name": "ipython",
    "version": 3
   },
   "file_extension": ".py",
   "mimetype": "text/x-python",
   "name": "python",
   "nbconvert_exporter": "python",
   "pygments_lexer": "ipython3",
   "version": "3.12.1"
  }
 },
 "nbformat": 4,
 "nbformat_minor": 2
}
